{
 "cells": [
  {
   "cell_type": "markdown",
   "id": "86117fd0",
   "metadata": {},
   "source": [
    "# Final Project Employee Turnover\n",
    "### Assessing employee_churn_data, sourced via Kaggle, (https://www.kaggle.com/datasets/marikastewart/employee-turnover) \n",
    "### Explore what factors influence the rate of employee turnover at this particular business between the years 2016-2020. Data was gathered by the HR Department on almost 10,000 employees, and comes from employee exit interviews, performance reviews and employee records.\n",
    "\n",
    "\n",
    " ## Analysis' used:\n",
    " ### Will run Binary Logistic Regressions for most columns, but will run independent Chi-Square test for \"salary\" and \"department\" columns (as they are the only 2 with categorical IVs).\n",
    " ### Single Correlations and correlation matrix \n",
    " ### NOTE: Some of this will be run in RStudio\n"
   ]
  },
  {
   "cell_type": "markdown",
   "id": "1e4323db",
   "metadata": {},
   "source": [
    "## Install packages"
   ]
  },
  {
   "cell_type": "code",
   "execution_count": 330,
   "id": "8e096244",
   "metadata": {},
   "outputs": [
    {
     "name": "stdout",
     "output_type": "stream",
     "text": [
      "\u001b[33mDEPRECATION: Configuring installation scheme with distutils config files is deprecated and will no longer work in the near future. If you are using a Homebrew or Linuxbrew Python, please see discussion at https://github.com/Homebrew/homebrew-core/issues/76621\u001b[0m\u001b[33m\n",
      "\u001b[0mRequirement already satisfied: pandas in /opt/homebrew/lib/python3.9/site-packages (1.4.2)\n",
      "Requirement already satisfied: python-dateutil>=2.8.1 in /opt/homebrew/lib/python3.9/site-packages (from pandas) (2.8.2)\n",
      "Requirement already satisfied: pytz>=2020.1 in /opt/homebrew/lib/python3.9/site-packages (from pandas) (2022.1)\n",
      "Requirement already satisfied: numpy>=1.20.0 in /opt/homebrew/lib/python3.9/site-packages (from pandas) (1.22.3)\n",
      "Requirement already satisfied: six>=1.5 in /opt/homebrew/lib/python3.9/site-packages (from python-dateutil>=2.8.1->pandas) (1.16.0)\n",
      "\u001b[33mDEPRECATION: Configuring installation scheme with distutils config files is deprecated and will no longer work in the near future. If you are using a Homebrew or Linuxbrew Python, please see discussion at https://github.com/Homebrew/homebrew-core/issues/76621\u001b[0m\u001b[33m\n",
      "\u001b[0m\u001b[33mWARNING: There was an error checking the latest version of pip.\u001b[0m\u001b[33m\n",
      "\u001b[0m"
     ]
    }
   ],
   "source": [
    "!pip3 install pandas"
   ]
  },
  {
   "cell_type": "code",
   "execution_count": 331,
   "id": "9dd960bf",
   "metadata": {},
   "outputs": [],
   "source": [
    "import pandas as pd\n",
    "import numpy as np\n",
    "from scipy import stats\n",
    "import matplotlib.pyplot as plt\n",
    "from pylab import *\n",
    "import seaborn as sns\n",
    "import statsmodels.stats.api as sms\n",
    "import statsmodels.api as sm\n",
    "from scipy.stats import boxcox\n",
    "import matplotlib.mlab as mlab\n",
    "%matplotlib inline\n",
    "from sklearn.model_selection import train_test_split\n",
    "from sklearn.tree import DecisionTreeClassifier\n",
    "from sklearn.metrics import classification_report, confusion_matrix, accuracy_score\n"
   ]
  },
  {
   "cell_type": "markdown",
   "id": "4b1a59b7",
   "metadata": {},
   "source": [
    "## Import dataset"
   ]
  },
  {
   "cell_type": "markdown",
   "id": "34c0b3fc",
   "metadata": {},
   "source": [
    "#### Will be assessing this dataset to discover if the employee high turnover rate is related to these factors: salary, satisfaction, avg_hrs_month and tenure."
   ]
  },
  {
   "cell_type": "code",
   "execution_count": 332,
   "id": "a00aa16a",
   "metadata": {},
   "outputs": [],
   "source": [
    "EmployeeTurnover = pd.read_csv('/Users/dorothycouch/employee_churn_data.csv')"
   ]
  },
  {
   "cell_type": "markdown",
   "id": "f3d28ad1",
   "metadata": {},
   "source": [
    "## Explore data\n"
   ]
  },
  {
   "cell_type": "code",
   "execution_count": 379,
   "id": "75a406e2",
   "metadata": {},
   "outputs": [
    {
     "data": {
      "text/html": [
       "<div>\n",
       "<style scoped>\n",
       "    .dataframe tbody tr th:only-of-type {\n",
       "        vertical-align: middle;\n",
       "    }\n",
       "\n",
       "    .dataframe tbody tr th {\n",
       "        vertical-align: top;\n",
       "    }\n",
       "\n",
       "    .dataframe thead th {\n",
       "        text-align: right;\n",
       "    }\n",
       "</style>\n",
       "<table border=\"1\" class=\"dataframe\">\n",
       "  <thead>\n",
       "    <tr style=\"text-align: right;\">\n",
       "      <th></th>\n",
       "      <th>department</th>\n",
       "      <th>promoted</th>\n",
       "      <th>review</th>\n",
       "      <th>projects</th>\n",
       "      <th>salary</th>\n",
       "      <th>tenure</th>\n",
       "      <th>satisfaction</th>\n",
       "      <th>bonus</th>\n",
       "      <th>avg_hrs_month</th>\n",
       "      <th>left</th>\n",
       "    </tr>\n",
       "  </thead>\n",
       "  <tbody>\n",
       "    <tr>\n",
       "      <th>0</th>\n",
       "      <td>operations</td>\n",
       "      <td>0</td>\n",
       "      <td>0.577569</td>\n",
       "      <td>3</td>\n",
       "      <td>low</td>\n",
       "      <td>5.0</td>\n",
       "      <td>0.626759</td>\n",
       "      <td>0</td>\n",
       "      <td>180.866070</td>\n",
       "      <td>no</td>\n",
       "    </tr>\n",
       "    <tr>\n",
       "      <th>1</th>\n",
       "      <td>operations</td>\n",
       "      <td>0</td>\n",
       "      <td>0.751900</td>\n",
       "      <td>3</td>\n",
       "      <td>medium</td>\n",
       "      <td>6.0</td>\n",
       "      <td>0.443679</td>\n",
       "      <td>0</td>\n",
       "      <td>182.708149</td>\n",
       "      <td>no</td>\n",
       "    </tr>\n",
       "    <tr>\n",
       "      <th>2</th>\n",
       "      <td>support</td>\n",
       "      <td>0</td>\n",
       "      <td>0.722548</td>\n",
       "      <td>3</td>\n",
       "      <td>medium</td>\n",
       "      <td>6.0</td>\n",
       "      <td>0.446823</td>\n",
       "      <td>0</td>\n",
       "      <td>184.416084</td>\n",
       "      <td>no</td>\n",
       "    </tr>\n",
       "    <tr>\n",
       "      <th>3</th>\n",
       "      <td>logistics</td>\n",
       "      <td>0</td>\n",
       "      <td>0.675158</td>\n",
       "      <td>4</td>\n",
       "      <td>high</td>\n",
       "      <td>8.0</td>\n",
       "      <td>0.440139</td>\n",
       "      <td>0</td>\n",
       "      <td>188.707545</td>\n",
       "      <td>no</td>\n",
       "    </tr>\n",
       "    <tr>\n",
       "      <th>4</th>\n",
       "      <td>sales</td>\n",
       "      <td>0</td>\n",
       "      <td>0.676203</td>\n",
       "      <td>3</td>\n",
       "      <td>high</td>\n",
       "      <td>5.0</td>\n",
       "      <td>0.577607</td>\n",
       "      <td>1</td>\n",
       "      <td>179.821083</td>\n",
       "      <td>no</td>\n",
       "    </tr>\n",
       "  </tbody>\n",
       "</table>\n",
       "</div>"
      ],
      "text/plain": [
       "   department  promoted    review  projects  salary  tenure  satisfaction  \\\n",
       "0  operations         0  0.577569         3     low     5.0      0.626759   \n",
       "1  operations         0  0.751900         3  medium     6.0      0.443679   \n",
       "2     support         0  0.722548         3  medium     6.0      0.446823   \n",
       "3   logistics         0  0.675158         4    high     8.0      0.440139   \n",
       "4       sales         0  0.676203         3    high     5.0      0.577607   \n",
       "\n",
       "   bonus  avg_hrs_month left  \n",
       "0      0     180.866070   no  \n",
       "1      0     182.708149   no  \n",
       "2      0     184.416084   no  \n",
       "3      0     188.707545   no  \n",
       "4      1     179.821083   no  "
      ]
     },
     "execution_count": 379,
     "metadata": {},
     "output_type": "execute_result"
    }
   ],
   "source": [
    "## Check for null data and view\n",
    "EmployeeTurnover.isnull().sum()\n",
    "\n",
    "EmployeeTurnover.head()"
   ]
  },
  {
   "cell_type": "code",
   "execution_count": 380,
   "id": "017c6cc8",
   "metadata": {},
   "outputs": [
    {
     "name": "stdout",
     "output_type": "stream",
     "text": [
      "The number of values for feature department is: 10 -- ['IT' 'admin' 'engineering' 'finance' 'logistics' 'marketing' 'operations'\n",
      " 'retail' 'sales' 'support']\n",
      "The number of values for feature promoted is: 2 -- [0 1]\n",
      "The number of values for feature review is: 9540\n",
      "The number of values for feature projects is: 4 -- [2 3 4 5]\n",
      "The number of values for feature salary is: 3 -- ['high' 'low' 'medium']\n",
      "The number of values for feature tenure is: 11 -- [ 2.  3.  4.  5.  6.  7.  8.  9. 10. 11. 12.]\n",
      "The number of values for feature satisfaction is: 9540\n",
      "The number of values for feature bonus is: 2 -- [0 1]\n",
      "The number of values for feature avg_hrs_month is: 9540\n",
      "The number of values for feature left is: 2 -- ['no' 'yes']\n"
     ]
    }
   ],
   "source": [
    "# Investigate all the elements whithin each Feature \n",
    "\n",
    "for column in EmployeeTurnover:\n",
    "    unique_values = np.unique(EmployeeTurnover[column])\n",
    "    nr_values = len(unique_values)\n",
    "    if nr_values <= 15:\n",
    "        print(\"The number of values for feature {} is: {} -- {}\".format(column, nr_values, unique_values))\n",
    "    else:\n",
    "        print(\"The number of values for feature {} is: {}\".format(column, nr_values))"
   ]
  },
  {
   "cell_type": "code",
   "execution_count": 179,
   "id": "c48757d3",
   "metadata": {},
   "outputs": [
    {
     "data": {
      "text/plain": [
       "department  promoted  review    projects  salary  tenure  satisfaction  bonus  avg_hrs_month  left\n",
       "IT          0         0.422341  2         medium  7.0     0.675074      0      185.961653     yes     1\n",
       "retail      0         0.682669  4         medium  8.0     0.588426      0      188.028915     yes     1\n",
       "                      0.682845  3         medium  7.0     0.511525      0      184.976643     no      1\n",
       "                      0.682915  2         medium  5.0     0.563172      0      180.026543     no      1\n",
       "                      0.683070  3         medium  6.0     0.619241      0      183.190667     no      1\n",
       "                                                                                                     ..\n",
       "marketing   0         0.573528  3         low     7.0     0.378499      1      185.808098     no      1\n",
       "                      0.573754  4         high    5.0     0.633021      0      181.046253     no      1\n",
       "                      0.573939  3         medium  6.0     0.722729      0      181.537304     no      1\n",
       "                      0.573946  4         medium  6.0     0.194639      1      183.030059     no      1\n",
       "support     1         0.818890  3         medium  5.0     0.385645      0      178.746209     yes     1\n",
       "Length: 9540, dtype: int64"
      ]
     },
     "execution_count": 179,
     "metadata": {},
     "output_type": "execute_result"
    }
   ],
   "source": [
    "EmployeeTurnover.value_counts()"
   ]
  },
  {
   "cell_type": "code",
   "execution_count": 180,
   "id": "b46b3996",
   "metadata": {},
   "outputs": [
    {
     "data": {
      "text/plain": [
       "Index(['department', 'promoted', 'review', 'projects', 'salary', 'tenure',\n",
       "       'satisfaction', 'bonus', 'avg_hrs_month', 'left'],\n",
       "      dtype='object')"
      ]
     },
     "execution_count": 180,
     "metadata": {},
     "output_type": "execute_result"
    }
   ],
   "source": [
    "EmployeeTurnover.columns"
   ]
  },
  {
   "cell_type": "code",
   "execution_count": 181,
   "id": "5e61659c",
   "metadata": {},
   "outputs": [
    {
     "data": {
      "text/plain": [
       "count    9540.000000\n",
       "mean        0.504645\n",
       "std         0.158555\n",
       "min         0.000000\n",
       "25%         0.386801\n",
       "50%         0.500786\n",
       "75%         0.622607\n",
       "max         1.000000\n",
       "Name: satisfaction, dtype: float64"
      ]
     },
     "execution_count": 181,
     "metadata": {},
     "output_type": "execute_result"
    }
   ],
   "source": [
    "EmployeeTurnover.satisfaction.describe()"
   ]
  },
  {
   "cell_type": "code",
   "execution_count": 182,
   "id": "9cbd91bd",
   "metadata": {},
   "outputs": [
    {
     "data": {
      "text/plain": [
       "count       9540\n",
       "unique         3\n",
       "top       medium\n",
       "freq        6611\n",
       "Name: salary, dtype: object"
      ]
     },
     "execution_count": 182,
     "metadata": {},
     "output_type": "execute_result"
    }
   ],
   "source": [
    "EmployeeTurnover.salary.describe()"
   ]
  },
  {
   "cell_type": "code",
   "execution_count": 183,
   "id": "a76c7b9a",
   "metadata": {},
   "outputs": [
    {
     "data": {
      "text/plain": [
       "count    9540.000000\n",
       "mean      184.661571\n",
       "std         4.144831\n",
       "min       171.374060\n",
       "25%       181.472085\n",
       "50%       184.628796\n",
       "75%       187.728708\n",
       "max       200.861656\n",
       "Name: avg_hrs_month, dtype: float64"
      ]
     },
     "execution_count": 183,
     "metadata": {},
     "output_type": "execute_result"
    }
   ],
   "source": [
    "EmployeeTurnover.avg_hrs_month.describe()"
   ]
  },
  {
   "cell_type": "markdown",
   "id": "996d2f51",
   "metadata": {},
   "source": [
    "# Data wrangling: "
   ]
  },
  {
   "cell_type": "markdown",
   "id": "df255e74",
   "metadata": {},
   "source": [
    "## Recoding Columns\n",
    "### Keeping columns and recoding: \"left\" to 0/1, \"salary\" low-0/medium-1/high-2, and \"department\"."
   ]
  },
  {
   "cell_type": "code",
   "execution_count": 184,
   "id": "96b64fd5",
   "metadata": {},
   "outputs": [],
   "source": [
    "Emp_Turn = EmployeeTurnover[['department', 'salary', 'satisfaction', 'avg_hrs_month', 'left', 'tenure']]\n"
   ]
  },
  {
   "cell_type": "code",
   "execution_count": 185,
   "id": "ea2e01a9",
   "metadata": {},
   "outputs": [
    {
     "data": {
      "text/html": [
       "<div>\n",
       "<style scoped>\n",
       "    .dataframe tbody tr th:only-of-type {\n",
       "        vertical-align: middle;\n",
       "    }\n",
       "\n",
       "    .dataframe tbody tr th {\n",
       "        vertical-align: top;\n",
       "    }\n",
       "\n",
       "    .dataframe thead th {\n",
       "        text-align: right;\n",
       "    }\n",
       "</style>\n",
       "<table border=\"1\" class=\"dataframe\">\n",
       "  <thead>\n",
       "    <tr style=\"text-align: right;\">\n",
       "      <th></th>\n",
       "      <th>department</th>\n",
       "      <th>salary</th>\n",
       "      <th>satisfaction</th>\n",
       "      <th>avg_hrs_month</th>\n",
       "      <th>left</th>\n",
       "      <th>tenure</th>\n",
       "    </tr>\n",
       "  </thead>\n",
       "  <tbody>\n",
       "    <tr>\n",
       "      <th>0</th>\n",
       "      <td>operations</td>\n",
       "      <td>low</td>\n",
       "      <td>0.626759</td>\n",
       "      <td>180.866070</td>\n",
       "      <td>no</td>\n",
       "      <td>5.0</td>\n",
       "    </tr>\n",
       "    <tr>\n",
       "      <th>1</th>\n",
       "      <td>operations</td>\n",
       "      <td>medium</td>\n",
       "      <td>0.443679</td>\n",
       "      <td>182.708149</td>\n",
       "      <td>no</td>\n",
       "      <td>6.0</td>\n",
       "    </tr>\n",
       "    <tr>\n",
       "      <th>2</th>\n",
       "      <td>support</td>\n",
       "      <td>medium</td>\n",
       "      <td>0.446823</td>\n",
       "      <td>184.416084</td>\n",
       "      <td>no</td>\n",
       "      <td>6.0</td>\n",
       "    </tr>\n",
       "    <tr>\n",
       "      <th>3</th>\n",
       "      <td>logistics</td>\n",
       "      <td>high</td>\n",
       "      <td>0.440139</td>\n",
       "      <td>188.707545</td>\n",
       "      <td>no</td>\n",
       "      <td>8.0</td>\n",
       "    </tr>\n",
       "    <tr>\n",
       "      <th>4</th>\n",
       "      <td>sales</td>\n",
       "      <td>high</td>\n",
       "      <td>0.577607</td>\n",
       "      <td>179.821083</td>\n",
       "      <td>no</td>\n",
       "      <td>5.0</td>\n",
       "    </tr>\n",
       "  </tbody>\n",
       "</table>\n",
       "</div>"
      ],
      "text/plain": [
       "   department  salary  satisfaction  avg_hrs_month left  tenure\n",
       "0  operations     low      0.626759     180.866070   no     5.0\n",
       "1  operations  medium      0.443679     182.708149   no     6.0\n",
       "2     support  medium      0.446823     184.416084   no     6.0\n",
       "3   logistics    high      0.440139     188.707545   no     8.0\n",
       "4       sales    high      0.577607     179.821083   no     5.0"
      ]
     },
     "execution_count": 185,
     "metadata": {},
     "output_type": "execute_result"
    }
   ],
   "source": [
    "Emp_Turn.head()"
   ]
  },
  {
   "cell_type": "code",
   "execution_count": 188,
   "id": "aaecfa5a",
   "metadata": {},
   "outputs": [
    {
     "data": {
      "text/html": [
       "<div>\n",
       "<style scoped>\n",
       "    .dataframe tbody tr th:only-of-type {\n",
       "        vertical-align: middle;\n",
       "    }\n",
       "\n",
       "    .dataframe tbody tr th {\n",
       "        vertical-align: top;\n",
       "    }\n",
       "\n",
       "    .dataframe thead th {\n",
       "        text-align: right;\n",
       "    }\n",
       "</style>\n",
       "<table border=\"1\" class=\"dataframe\">\n",
       "  <thead>\n",
       "    <tr style=\"text-align: right;\">\n",
       "      <th></th>\n",
       "      <th>department</th>\n",
       "      <th>salary</th>\n",
       "      <th>satisfaction</th>\n",
       "      <th>avg_hrs_month</th>\n",
       "      <th>left</th>\n",
       "      <th>tenure</th>\n",
       "    </tr>\n",
       "  </thead>\n",
       "  <tbody>\n",
       "    <tr>\n",
       "      <th>9535</th>\n",
       "      <td>operations</td>\n",
       "      <td>medium</td>\n",
       "      <td>0.543641</td>\n",
       "      <td>188.155738</td>\n",
       "      <td>yes</td>\n",
       "      <td>8.0</td>\n",
       "    </tr>\n",
       "    <tr>\n",
       "      <th>9536</th>\n",
       "      <td>logistics</td>\n",
       "      <td>medium</td>\n",
       "      <td>0.549048</td>\n",
       "      <td>188.176164</td>\n",
       "      <td>yes</td>\n",
       "      <td>8.0</td>\n",
       "    </tr>\n",
       "    <tr>\n",
       "      <th>9537</th>\n",
       "      <td>operations</td>\n",
       "      <td>low</td>\n",
       "      <td>0.705425</td>\n",
       "      <td>186.531008</td>\n",
       "      <td>yes</td>\n",
       "      <td>7.0</td>\n",
       "    </tr>\n",
       "    <tr>\n",
       "      <th>9538</th>\n",
       "      <td>IT</td>\n",
       "      <td>medium</td>\n",
       "      <td>0.607287</td>\n",
       "      <td>187.641370</td>\n",
       "      <td>yes</td>\n",
       "      <td>8.0</td>\n",
       "    </tr>\n",
       "    <tr>\n",
       "      <th>9539</th>\n",
       "      <td>finance</td>\n",
       "      <td>low</td>\n",
       "      <td>0.706455</td>\n",
       "      <td>185.920934</td>\n",
       "      <td>yes</td>\n",
       "      <td>7.0</td>\n",
       "    </tr>\n",
       "  </tbody>\n",
       "</table>\n",
       "</div>"
      ],
      "text/plain": [
       "      department  salary  satisfaction  avg_hrs_month left  tenure\n",
       "9535  operations  medium      0.543641     188.155738  yes     8.0\n",
       "9536   logistics  medium      0.549048     188.176164  yes     8.0\n",
       "9537  operations     low      0.705425     186.531008  yes     7.0\n",
       "9538          IT  medium      0.607287     187.641370  yes     8.0\n",
       "9539     finance     low      0.706455     185.920934  yes     7.0"
      ]
     },
     "execution_count": 188,
     "metadata": {},
     "output_type": "execute_result"
    }
   ],
   "source": [
    "Emp_Turn.tail()"
   ]
  },
  {
   "cell_type": "code",
   "execution_count": 189,
   "id": "c1841775",
   "metadata": {},
   "outputs": [
    {
     "name": "stdout",
     "output_type": "stream",
     "text": [
      "<class 'pandas.core.frame.DataFrame'>\n",
      "RangeIndex: 9540 entries, 0 to 9539\n",
      "Data columns (total 6 columns):\n",
      " #   Column         Non-Null Count  Dtype  \n",
      "---  ------         --------------  -----  \n",
      " 0   department     9540 non-null   object \n",
      " 1   salary         9540 non-null   object \n",
      " 2   satisfaction   9540 non-null   float64\n",
      " 3   avg_hrs_month  9540 non-null   float64\n",
      " 4   left           9540 non-null   object \n",
      " 5   tenure         9540 non-null   float64\n",
      "dtypes: float64(3), object(3)\n",
      "memory usage: 447.3+ KB\n"
     ]
    }
   ],
   "source": [
    "Emp_Turn.info()\n"
   ]
  },
  {
   "cell_type": "markdown",
   "id": "634eda4e",
   "metadata": {},
   "source": [
    "## Recoding \"left\" column to 1/0:\n"
   ]
  },
  {
   "cell_type": "code",
   "execution_count": 215,
   "id": "ac62a3a2",
   "metadata": {},
   "outputs": [],
   "source": [
    "Emp_Turn_Replaced = Emp_Turn.replace({'left': {'yes': 1, 'no': 0}})\n"
   ]
  },
  {
   "cell_type": "code",
   "execution_count": 216,
   "id": "6e379d2e",
   "metadata": {},
   "outputs": [
    {
     "data": {
      "text/html": [
       "<div>\n",
       "<style scoped>\n",
       "    .dataframe tbody tr th:only-of-type {\n",
       "        vertical-align: middle;\n",
       "    }\n",
       "\n",
       "    .dataframe tbody tr th {\n",
       "        vertical-align: top;\n",
       "    }\n",
       "\n",
       "    .dataframe thead th {\n",
       "        text-align: right;\n",
       "    }\n",
       "</style>\n",
       "<table border=\"1\" class=\"dataframe\">\n",
       "  <thead>\n",
       "    <tr style=\"text-align: right;\">\n",
       "      <th></th>\n",
       "      <th>department</th>\n",
       "      <th>salary</th>\n",
       "      <th>satisfaction</th>\n",
       "      <th>avg_hrs_month</th>\n",
       "      <th>left</th>\n",
       "      <th>tenure</th>\n",
       "    </tr>\n",
       "  </thead>\n",
       "  <tbody>\n",
       "    <tr>\n",
       "      <th>0</th>\n",
       "      <td>operations</td>\n",
       "      <td>low</td>\n",
       "      <td>0.626759</td>\n",
       "      <td>180.866070</td>\n",
       "      <td>0</td>\n",
       "      <td>5.0</td>\n",
       "    </tr>\n",
       "    <tr>\n",
       "      <th>1</th>\n",
       "      <td>operations</td>\n",
       "      <td>medium</td>\n",
       "      <td>0.443679</td>\n",
       "      <td>182.708149</td>\n",
       "      <td>0</td>\n",
       "      <td>6.0</td>\n",
       "    </tr>\n",
       "    <tr>\n",
       "      <th>2</th>\n",
       "      <td>support</td>\n",
       "      <td>medium</td>\n",
       "      <td>0.446823</td>\n",
       "      <td>184.416084</td>\n",
       "      <td>0</td>\n",
       "      <td>6.0</td>\n",
       "    </tr>\n",
       "    <tr>\n",
       "      <th>3</th>\n",
       "      <td>logistics</td>\n",
       "      <td>high</td>\n",
       "      <td>0.440139</td>\n",
       "      <td>188.707545</td>\n",
       "      <td>0</td>\n",
       "      <td>8.0</td>\n",
       "    </tr>\n",
       "    <tr>\n",
       "      <th>4</th>\n",
       "      <td>sales</td>\n",
       "      <td>high</td>\n",
       "      <td>0.577607</td>\n",
       "      <td>179.821083</td>\n",
       "      <td>0</td>\n",
       "      <td>5.0</td>\n",
       "    </tr>\n",
       "    <tr>\n",
       "      <th>...</th>\n",
       "      <td>...</td>\n",
       "      <td>...</td>\n",
       "      <td>...</td>\n",
       "      <td>...</td>\n",
       "      <td>...</td>\n",
       "      <td>...</td>\n",
       "    </tr>\n",
       "    <tr>\n",
       "      <th>9535</th>\n",
       "      <td>operations</td>\n",
       "      <td>medium</td>\n",
       "      <td>0.543641</td>\n",
       "      <td>188.155738</td>\n",
       "      <td>1</td>\n",
       "      <td>8.0</td>\n",
       "    </tr>\n",
       "    <tr>\n",
       "      <th>9536</th>\n",
       "      <td>logistics</td>\n",
       "      <td>medium</td>\n",
       "      <td>0.549048</td>\n",
       "      <td>188.176164</td>\n",
       "      <td>1</td>\n",
       "      <td>8.0</td>\n",
       "    </tr>\n",
       "    <tr>\n",
       "      <th>9537</th>\n",
       "      <td>operations</td>\n",
       "      <td>low</td>\n",
       "      <td>0.705425</td>\n",
       "      <td>186.531008</td>\n",
       "      <td>1</td>\n",
       "      <td>7.0</td>\n",
       "    </tr>\n",
       "    <tr>\n",
       "      <th>9538</th>\n",
       "      <td>IT</td>\n",
       "      <td>medium</td>\n",
       "      <td>0.607287</td>\n",
       "      <td>187.641370</td>\n",
       "      <td>1</td>\n",
       "      <td>8.0</td>\n",
       "    </tr>\n",
       "    <tr>\n",
       "      <th>9539</th>\n",
       "      <td>finance</td>\n",
       "      <td>low</td>\n",
       "      <td>0.706455</td>\n",
       "      <td>185.920934</td>\n",
       "      <td>1</td>\n",
       "      <td>7.0</td>\n",
       "    </tr>\n",
       "  </tbody>\n",
       "</table>\n",
       "<p>9540 rows × 6 columns</p>\n",
       "</div>"
      ],
      "text/plain": [
       "      department  salary  satisfaction  avg_hrs_month  left  tenure\n",
       "0     operations     low      0.626759     180.866070     0     5.0\n",
       "1     operations  medium      0.443679     182.708149     0     6.0\n",
       "2        support  medium      0.446823     184.416084     0     6.0\n",
       "3      logistics    high      0.440139     188.707545     0     8.0\n",
       "4          sales    high      0.577607     179.821083     0     5.0\n",
       "...          ...     ...           ...            ...   ...     ...\n",
       "9535  operations  medium      0.543641     188.155738     1     8.0\n",
       "9536   logistics  medium      0.549048     188.176164     1     8.0\n",
       "9537  operations     low      0.705425     186.531008     1     7.0\n",
       "9538          IT  medium      0.607287     187.641370     1     8.0\n",
       "9539     finance     low      0.706455     185.920934     1     7.0\n",
       "\n",
       "[9540 rows x 6 columns]"
      ]
     },
     "execution_count": 216,
     "metadata": {},
     "output_type": "execute_result"
    }
   ],
   "source": [
    "Emp_Turn_Replaced"
   ]
  },
  {
   "cell_type": "markdown",
   "id": "9efbd9b1",
   "metadata": {},
   "source": [
    "## Recode \"salary\" column"
   ]
  },
  {
   "cell_type": "code",
   "execution_count": 217,
   "id": "b9f93ab3",
   "metadata": {},
   "outputs": [],
   "source": [
    "def my_recode(salary):\n",
    "    if salary == \"low\":\n",
    "        return 0\n",
    "    if salary == \"medium\":\n",
    "        return 1\n",
    "    if salary == \"high\":\n",
    "        return 2\n"
   ]
  },
  {
   "cell_type": "code",
   "execution_count": 218,
   "id": "b1494755",
   "metadata": {},
   "outputs": [
    {
     "data": {
      "text/html": [
       "<div>\n",
       "<style scoped>\n",
       "    .dataframe tbody tr th:only-of-type {\n",
       "        vertical-align: middle;\n",
       "    }\n",
       "\n",
       "    .dataframe tbody tr th {\n",
       "        vertical-align: top;\n",
       "    }\n",
       "\n",
       "    .dataframe thead th {\n",
       "        text-align: right;\n",
       "    }\n",
       "</style>\n",
       "<table border=\"1\" class=\"dataframe\">\n",
       "  <thead>\n",
       "    <tr style=\"text-align: right;\">\n",
       "      <th></th>\n",
       "      <th>department</th>\n",
       "      <th>salary</th>\n",
       "      <th>satisfaction</th>\n",
       "      <th>avg_hrs_month</th>\n",
       "      <th>left</th>\n",
       "      <th>tenure</th>\n",
       "      <th>SalaryR</th>\n",
       "    </tr>\n",
       "  </thead>\n",
       "  <tbody>\n",
       "    <tr>\n",
       "      <th>0</th>\n",
       "      <td>operations</td>\n",
       "      <td>low</td>\n",
       "      <td>0.626759</td>\n",
       "      <td>180.866070</td>\n",
       "      <td>0</td>\n",
       "      <td>5.0</td>\n",
       "      <td>0</td>\n",
       "    </tr>\n",
       "    <tr>\n",
       "      <th>1</th>\n",
       "      <td>operations</td>\n",
       "      <td>medium</td>\n",
       "      <td>0.443679</td>\n",
       "      <td>182.708149</td>\n",
       "      <td>0</td>\n",
       "      <td>6.0</td>\n",
       "      <td>1</td>\n",
       "    </tr>\n",
       "    <tr>\n",
       "      <th>2</th>\n",
       "      <td>support</td>\n",
       "      <td>medium</td>\n",
       "      <td>0.446823</td>\n",
       "      <td>184.416084</td>\n",
       "      <td>0</td>\n",
       "      <td>6.0</td>\n",
       "      <td>1</td>\n",
       "    </tr>\n",
       "    <tr>\n",
       "      <th>3</th>\n",
       "      <td>logistics</td>\n",
       "      <td>high</td>\n",
       "      <td>0.440139</td>\n",
       "      <td>188.707545</td>\n",
       "      <td>0</td>\n",
       "      <td>8.0</td>\n",
       "      <td>2</td>\n",
       "    </tr>\n",
       "    <tr>\n",
       "      <th>4</th>\n",
       "      <td>sales</td>\n",
       "      <td>high</td>\n",
       "      <td>0.577607</td>\n",
       "      <td>179.821083</td>\n",
       "      <td>0</td>\n",
       "      <td>5.0</td>\n",
       "      <td>2</td>\n",
       "    </tr>\n",
       "  </tbody>\n",
       "</table>\n",
       "</div>"
      ],
      "text/plain": [
       "   department  salary  satisfaction  avg_hrs_month  left  tenure  SalaryR\n",
       "0  operations     low      0.626759     180.866070     0     5.0        0\n",
       "1  operations  medium      0.443679     182.708149     0     6.0        1\n",
       "2     support  medium      0.446823     184.416084     0     6.0        1\n",
       "3   logistics    high      0.440139     188.707545     0     8.0        2\n",
       "4       sales    high      0.577607     179.821083     0     5.0        2"
      ]
     },
     "execution_count": 218,
     "metadata": {},
     "output_type": "execute_result"
    }
   ],
   "source": [
    "Emp_Turn_Replaced['SalaryR'] = Emp_Turn_Replaced['salary'].apply(my_recode)\n",
    "Emp_Turn_Replaced.head()\n"
   ]
  },
  {
   "cell_type": "code",
   "execution_count": 221,
   "id": "9af49193",
   "metadata": {},
   "outputs": [
    {
     "data": {
      "text/html": [
       "<div>\n",
       "<style scoped>\n",
       "    .dataframe tbody tr th:only-of-type {\n",
       "        vertical-align: middle;\n",
       "    }\n",
       "\n",
       "    .dataframe tbody tr th {\n",
       "        vertical-align: top;\n",
       "    }\n",
       "\n",
       "    .dataframe thead th {\n",
       "        text-align: right;\n",
       "    }\n",
       "</style>\n",
       "<table border=\"1\" class=\"dataframe\">\n",
       "  <thead>\n",
       "    <tr style=\"text-align: right;\">\n",
       "      <th></th>\n",
       "      <th>department</th>\n",
       "      <th>salary</th>\n",
       "      <th>satisfaction</th>\n",
       "      <th>avg_hrs_month</th>\n",
       "      <th>left</th>\n",
       "      <th>tenure</th>\n",
       "      <th>SalaryR</th>\n",
       "    </tr>\n",
       "  </thead>\n",
       "  <tbody>\n",
       "    <tr>\n",
       "      <th>0</th>\n",
       "      <td>operations</td>\n",
       "      <td>low</td>\n",
       "      <td>0.626759</td>\n",
       "      <td>180.866070</td>\n",
       "      <td>0</td>\n",
       "      <td>5.0</td>\n",
       "      <td>0</td>\n",
       "    </tr>\n",
       "    <tr>\n",
       "      <th>1</th>\n",
       "      <td>operations</td>\n",
       "      <td>medium</td>\n",
       "      <td>0.443679</td>\n",
       "      <td>182.708149</td>\n",
       "      <td>0</td>\n",
       "      <td>6.0</td>\n",
       "      <td>1</td>\n",
       "    </tr>\n",
       "    <tr>\n",
       "      <th>2</th>\n",
       "      <td>support</td>\n",
       "      <td>medium</td>\n",
       "      <td>0.446823</td>\n",
       "      <td>184.416084</td>\n",
       "      <td>0</td>\n",
       "      <td>6.0</td>\n",
       "      <td>1</td>\n",
       "    </tr>\n",
       "    <tr>\n",
       "      <th>3</th>\n",
       "      <td>logistics</td>\n",
       "      <td>high</td>\n",
       "      <td>0.440139</td>\n",
       "      <td>188.707545</td>\n",
       "      <td>0</td>\n",
       "      <td>8.0</td>\n",
       "      <td>2</td>\n",
       "    </tr>\n",
       "    <tr>\n",
       "      <th>4</th>\n",
       "      <td>sales</td>\n",
       "      <td>high</td>\n",
       "      <td>0.577607</td>\n",
       "      <td>179.821083</td>\n",
       "      <td>0</td>\n",
       "      <td>5.0</td>\n",
       "      <td>2</td>\n",
       "    </tr>\n",
       "    <tr>\n",
       "      <th>...</th>\n",
       "      <td>...</td>\n",
       "      <td>...</td>\n",
       "      <td>...</td>\n",
       "      <td>...</td>\n",
       "      <td>...</td>\n",
       "      <td>...</td>\n",
       "      <td>...</td>\n",
       "    </tr>\n",
       "    <tr>\n",
       "      <th>9535</th>\n",
       "      <td>operations</td>\n",
       "      <td>medium</td>\n",
       "      <td>0.543641</td>\n",
       "      <td>188.155738</td>\n",
       "      <td>1</td>\n",
       "      <td>8.0</td>\n",
       "      <td>1</td>\n",
       "    </tr>\n",
       "    <tr>\n",
       "      <th>9536</th>\n",
       "      <td>logistics</td>\n",
       "      <td>medium</td>\n",
       "      <td>0.549048</td>\n",
       "      <td>188.176164</td>\n",
       "      <td>1</td>\n",
       "      <td>8.0</td>\n",
       "      <td>1</td>\n",
       "    </tr>\n",
       "    <tr>\n",
       "      <th>9537</th>\n",
       "      <td>operations</td>\n",
       "      <td>low</td>\n",
       "      <td>0.705425</td>\n",
       "      <td>186.531008</td>\n",
       "      <td>1</td>\n",
       "      <td>7.0</td>\n",
       "      <td>0</td>\n",
       "    </tr>\n",
       "    <tr>\n",
       "      <th>9538</th>\n",
       "      <td>IT</td>\n",
       "      <td>medium</td>\n",
       "      <td>0.607287</td>\n",
       "      <td>187.641370</td>\n",
       "      <td>1</td>\n",
       "      <td>8.0</td>\n",
       "      <td>1</td>\n",
       "    </tr>\n",
       "    <tr>\n",
       "      <th>9539</th>\n",
       "      <td>finance</td>\n",
       "      <td>low</td>\n",
       "      <td>0.706455</td>\n",
       "      <td>185.920934</td>\n",
       "      <td>1</td>\n",
       "      <td>7.0</td>\n",
       "      <td>0</td>\n",
       "    </tr>\n",
       "  </tbody>\n",
       "</table>\n",
       "<p>9540 rows × 7 columns</p>\n",
       "</div>"
      ],
      "text/plain": [
       "      department  salary  satisfaction  avg_hrs_month  left  tenure  SalaryR\n",
       "0     operations     low      0.626759     180.866070     0     5.0        0\n",
       "1     operations  medium      0.443679     182.708149     0     6.0        1\n",
       "2        support  medium      0.446823     184.416084     0     6.0        1\n",
       "3      logistics    high      0.440139     188.707545     0     8.0        2\n",
       "4          sales    high      0.577607     179.821083     0     5.0        2\n",
       "...          ...     ...           ...            ...   ...     ...      ...\n",
       "9535  operations  medium      0.543641     188.155738     1     8.0        1\n",
       "9536   logistics  medium      0.549048     188.176164     1     8.0        1\n",
       "9537  operations     low      0.705425     186.531008     1     7.0        0\n",
       "9538          IT  medium      0.607287     187.641370     1     8.0        1\n",
       "9539     finance     low      0.706455     185.920934     1     7.0        0\n",
       "\n",
       "[9540 rows x 7 columns]"
      ]
     },
     "execution_count": 221,
     "metadata": {},
     "output_type": "execute_result"
    }
   ],
   "source": [
    "Emp_Turn_Replaced"
   ]
  },
  {
   "cell_type": "markdown",
   "id": "f89a5e9c",
   "metadata": {},
   "source": [
    "## Recode \"department\" column"
   ]
  },
  {
   "cell_type": "code",
   "execution_count": 233,
   "id": "b9099a99",
   "metadata": {},
   "outputs": [
    {
     "data": {
      "text/plain": [
       "sales          1883\n",
       "retail         1541\n",
       "operations     1522\n",
       "engineering    1516\n",
       "marketing       802\n",
       "support         735\n",
       "admin           423\n",
       "finance         402\n",
       "logistics       360\n",
       "IT              356\n",
       "Name: department, dtype: int64"
      ]
     },
     "execution_count": 233,
     "metadata": {},
     "output_type": "execute_result"
    }
   ],
   "source": [
    "Emp_Turn_Replaced.department.value_counts()"
   ]
  },
  {
   "cell_type": "code",
   "execution_count": 236,
   "id": "c608b5c1",
   "metadata": {},
   "outputs": [],
   "source": [
    "def my_recode2(department):\n",
    "    if department == \"admin\":\n",
    "        return 0\n",
    "    if department == \"engineering\":\n",
    "        return 1\n",
    "    if department == \"finance\":\n",
    "        return 2\n",
    "    if department == \"IT\":\n",
    "        return 3\n",
    "    if department == \"logistics\":\n",
    "        return 4\n",
    "    if department == \"marketing\":\n",
    "        return 5\n",
    "    if department == \"operations\":\n",
    "        return 6\n",
    "    if department == \"retail\":\n",
    "        return 7\n",
    "    if department == \"sales\":\n",
    "        return 8\n",
    "    if department == \"support\":\n",
    "        return 9"
   ]
  },
  {
   "cell_type": "code",
   "execution_count": 406,
   "id": "a0ab6ceb",
   "metadata": {},
   "outputs": [
    {
     "data": {
      "text/html": [
       "<div>\n",
       "<style scoped>\n",
       "    .dataframe tbody tr th:only-of-type {\n",
       "        vertical-align: middle;\n",
       "    }\n",
       "\n",
       "    .dataframe tbody tr th {\n",
       "        vertical-align: top;\n",
       "    }\n",
       "\n",
       "    .dataframe thead th {\n",
       "        text-align: right;\n",
       "    }\n",
       "</style>\n",
       "<table border=\"1\" class=\"dataframe\">\n",
       "  <thead>\n",
       "    <tr style=\"text-align: right;\">\n",
       "      <th></th>\n",
       "      <th>department</th>\n",
       "      <th>salary</th>\n",
       "      <th>satisfaction</th>\n",
       "      <th>avg_hrs_month</th>\n",
       "      <th>left</th>\n",
       "      <th>tenure</th>\n",
       "      <th>SalaryR</th>\n",
       "      <th>DeptR</th>\n",
       "    </tr>\n",
       "  </thead>\n",
       "  <tbody>\n",
       "    <tr>\n",
       "      <th>0</th>\n",
       "      <td>operations</td>\n",
       "      <td>low</td>\n",
       "      <td>0.626759</td>\n",
       "      <td>180.866070</td>\n",
       "      <td>0</td>\n",
       "      <td>5.0</td>\n",
       "      <td>0</td>\n",
       "      <td>6</td>\n",
       "    </tr>\n",
       "    <tr>\n",
       "      <th>1</th>\n",
       "      <td>operations</td>\n",
       "      <td>medium</td>\n",
       "      <td>0.443679</td>\n",
       "      <td>182.708149</td>\n",
       "      <td>0</td>\n",
       "      <td>6.0</td>\n",
       "      <td>1</td>\n",
       "      <td>6</td>\n",
       "    </tr>\n",
       "    <tr>\n",
       "      <th>2</th>\n",
       "      <td>support</td>\n",
       "      <td>medium</td>\n",
       "      <td>0.446823</td>\n",
       "      <td>184.416084</td>\n",
       "      <td>0</td>\n",
       "      <td>6.0</td>\n",
       "      <td>1</td>\n",
       "      <td>9</td>\n",
       "    </tr>\n",
       "    <tr>\n",
       "      <th>3</th>\n",
       "      <td>logistics</td>\n",
       "      <td>high</td>\n",
       "      <td>0.440139</td>\n",
       "      <td>188.707545</td>\n",
       "      <td>0</td>\n",
       "      <td>8.0</td>\n",
       "      <td>2</td>\n",
       "      <td>4</td>\n",
       "    </tr>\n",
       "    <tr>\n",
       "      <th>4</th>\n",
       "      <td>sales</td>\n",
       "      <td>high</td>\n",
       "      <td>0.577607</td>\n",
       "      <td>179.821083</td>\n",
       "      <td>0</td>\n",
       "      <td>5.0</td>\n",
       "      <td>2</td>\n",
       "      <td>8</td>\n",
       "    </tr>\n",
       "  </tbody>\n",
       "</table>\n",
       "</div>"
      ],
      "text/plain": [
       "   department  salary  satisfaction  avg_hrs_month  left  tenure  SalaryR  \\\n",
       "0  operations     low      0.626759     180.866070     0     5.0        0   \n",
       "1  operations  medium      0.443679     182.708149     0     6.0        1   \n",
       "2     support  medium      0.446823     184.416084     0     6.0        1   \n",
       "3   logistics    high      0.440139     188.707545     0     8.0        2   \n",
       "4       sales    high      0.577607     179.821083     0     5.0        2   \n",
       "\n",
       "   DeptR  \n",
       "0      6  \n",
       "1      6  \n",
       "2      9  \n",
       "3      4  \n",
       "4      8  "
      ]
     },
     "execution_count": 406,
     "metadata": {},
     "output_type": "execute_result"
    }
   ],
   "source": [
    "## Apply and view\n",
    "Emp_Turn_Replaced['DeptR'] = Emp_Turn_Replaced['department'].apply(my_recode2)\n",
    "Emp_Turn_Replaced.head()"
   ]
  },
  {
   "cell_type": "code",
   "execution_count": 239,
   "id": "7bd691c3",
   "metadata": {},
   "outputs": [
    {
     "name": "stdout",
     "output_type": "stream",
     "text": [
      "<class 'pandas.core.frame.DataFrame'>\n",
      "RangeIndex: 9540 entries, 0 to 9539\n",
      "Data columns (total 8 columns):\n",
      " #   Column         Non-Null Count  Dtype  \n",
      "---  ------         --------------  -----  \n",
      " 0   department     9540 non-null   object \n",
      " 1   salary         9540 non-null   object \n",
      " 2   satisfaction   9540 non-null   float64\n",
      " 3   avg_hrs_month  9540 non-null   float64\n",
      " 4   left           9540 non-null   int64  \n",
      " 5   tenure         9540 non-null   float64\n",
      " 6   SalaryR        9540 non-null   int64  \n",
      " 7   DeptR          9540 non-null   int64  \n",
      "dtypes: float64(3), int64(3), object(2)\n",
      "memory usage: 596.4+ KB\n"
     ]
    }
   ],
   "source": [
    "Emp_Turn_Replaced.info()"
   ]
  },
  {
   "cell_type": "code",
   "execution_count": 382,
   "id": "ae10840d",
   "metadata": {},
   "outputs": [
    {
     "data": {
      "image/png": "[encoded data removed]",
      "text/plain": [
       "<Figure size 1080x1080 with 42 Axes>"
      ]
     },
     "metadata": {
      "needs_background": "light"
     },
     "output_type": "display_data"
    }
   ],
   "source": [
    "# visualize current data\n",
    "ETView = sns.pairplot(Emp_Turn_Replaced)\n"
   ]
  },
  {
   "cell_type": "markdown",
   "id": "d5092ee4",
   "metadata": {},
   "source": [
    "## Histogram"
   ]
  },
  {
   "cell_type": "code",
   "execution_count": 407,
   "id": "99b832af",
   "metadata": {},
   "outputs": [
    {
     "data": {
      "image/png": "[encoded data removed]",
      "text/plain": [
       "<Figure size 432x288 with 1 Axes>"
      ]
     },
     "metadata": {
      "needs_background": "light"
     },
     "output_type": "display_data"
    }
   ],
   "source": [
    "num_bins = 10\n",
    "n, bins, patches = plt.hist(Emp_Turn_Replaced['satisfaction'], num_bins, facecolor='blue', alpha=1)\n",
    "plt.xlabel('Satisfaction Level')\n",
    "plt.ylabel('# of Employees')\n",
    "plt.title('Histogram of Satisfaction Level')\n",
    "plt.show()"
   ]
  },
  {
   "cell_type": "markdown",
   "id": "7fcf8f7f",
   "metadata": {},
   "source": [
    "### NOTE: The highest satisfaction level represented is in the mid ranges of .4-.6. with over 2000 employees in this range. "
   ]
  },
  {
   "cell_type": "code",
   "execution_count": 408,
   "id": "8033c57f",
   "metadata": {},
   "outputs": [
    {
     "data": {
      "image/png": "[encoded data removed]",
      "text/plain": [
       "<Figure size 432x288 with 1 Axes>"
      ]
     },
     "metadata": {
      "needs_background": "light"
     },
     "output_type": "display_data"
    }
   ],
   "source": [
    "num_bins = 10\n",
    "n, bins, patches = plt.hist(Emp_Turn_Replaced['avg_hrs_month'], num_bins, facecolor='red', alpha=1)\n",
    "plt.xlabel('Average Hours Worked per Month')\n",
    "plt.ylabel('# of Employees')\n",
    "plt.title('Histogram of Average Hrs Worked Monthly')\n",
    "plt.show()"
   ]
  },
  {
   "cell_type": "markdown",
   "id": "33526f09",
   "metadata": {},
   "source": [
    "### NOTE: Highest number of average hours worked in a month falls between 185-190, with 2000-2400 employees falling in these ranges.\n",
    "\n"
   ]
  },
  {
   "cell_type": "code",
   "execution_count": 409,
   "id": "67ed2785",
   "metadata": {},
   "outputs": [
    {
     "data": {
      "image/png": "[encoded data removed]",
      "text/plain": [
       "<Figure size 432x288 with 1 Axes>"
      ]
     },
     "metadata": {
      "needs_background": "light"
     },
     "output_type": "display_data"
    }
   ],
   "source": [
    "num_bins = 20\n",
    "n, bins, patches = plt.hist(Emp_Turn_Replaced['tenure'], num_bins, facecolor='orange', alpha=1)\n",
    "plt.xlabel('Length of Tenure')\n",
    "plt.ylabel('# of Employees')\n",
    "plt.title('Histogram of Years Worked')\n",
    "plt.show()"
   ]
  },
  {
   "cell_type": "markdown",
   "id": "33ba473a",
   "metadata": {},
   "source": [
    "### NOTE: The highest number of employees fall into the just over 6 years tenure with the company, closely followed by those who have worked with this company for around 7 and then 8 years. SO the the majority of the employees in this data set seem to fall in the 5-8 years range of tenure.\n"
   ]
  },
  {
   "cell_type": "code",
   "execution_count": 410,
   "id": "e715cba8",
   "metadata": {},
   "outputs": [
    {
     "data": {
      "image/png": "[encoded data removed]",
      "text/plain": [
       "<Figure size 432x288 with 1 Axes>"
      ]
     },
     "metadata": {
      "needs_background": "light"
     },
     "output_type": "display_data"
    }
   ],
   "source": [
    "num_bins = 20\n",
    "n, bins, patches = plt.hist(Emp_Turn_Replaced['DeptR'], num_bins, facecolor='yellow', alpha=1)\n",
    "plt.xlabel('Different Co Departments')\n",
    "plt.ylabel('# of Employees')\n",
    "plt.title('Histogram of Departments')\n",
    "plt.show()"
   ]
  },
  {
   "cell_type": "markdown",
   "id": "7dcae471",
   "metadata": {},
   "source": [
    "### Run value counts to help interpret 'department' histogram"
   ]
  },
  {
   "cell_type": "code",
   "execution_count": 259,
   "id": "bc8b0628",
   "metadata": {},
   "outputs": [
    {
     "data": {
      "text/plain": [
       "sales          1883\n",
       "retail         1541\n",
       "operations     1522\n",
       "engineering    1516\n",
       "marketing       802\n",
       "support         735\n",
       "admin           423\n",
       "finance         402\n",
       "logistics       360\n",
       "IT              356\n",
       "Name: department, dtype: int64"
      ]
     },
     "execution_count": 259,
     "metadata": {},
     "output_type": "execute_result"
    }
   ],
   "source": [
    "Emp_Turn_Replaced.department.value_counts()\n"
   ]
  },
  {
   "cell_type": "code",
   "execution_count": 260,
   "id": "77cfa75e",
   "metadata": {},
   "outputs": [
    {
     "data": {
      "text/plain": [
       "8    1883\n",
       "7    1541\n",
       "6    1522\n",
       "1    1516\n",
       "5     802\n",
       "9     735\n",
       "0     423\n",
       "2     402\n",
       "4     360\n",
       "3     356\n",
       "Name: DeptR, dtype: int64"
      ]
     },
     "execution_count": 260,
     "metadata": {},
     "output_type": "execute_result"
    }
   ],
   "source": [
    "Emp_Turn_Replaced.DeptR.value_counts()\n"
   ]
  },
  {
   "cell_type": "markdown",
   "id": "19cce636",
   "metadata": {},
   "source": [
    "### NOTE: Highest number of employees in sales, retail, operations and engineering departments, with the lowest # of employees in the IT department."
   ]
  },
  {
   "cell_type": "markdown",
   "id": "5884209b",
   "metadata": {},
   "source": [
    "## Bar chart for 'salary'"
   ]
  },
  {
   "cell_type": "code",
   "execution_count": 411,
   "id": "ddd8d535",
   "metadata": {},
   "outputs": [
    {
     "data": {
      "text/plain": [
       "Text(0, 0.5, '# of Employees')"
      ]
     },
     "execution_count": 411,
     "metadata": {},
     "output_type": "execute_result"
    },
    {
     "data": {
      "image/png": "[encoded data removed]",
      "text/plain": [
       "<Figure size 432x288 with 1 Axes>"
      ]
     },
     "metadata": {
      "needs_background": "light"
     },
     "output_type": "display_data"
    }
   ],
   "source": [
    "Salary2 = Emp_Turn_Replaced['salary'].value_counts().plot(kind='bar')\n",
    "Salary2.set_title(\"Salary Levels\")\n",
    "Salary2.set_xlabel(\"Salary Categories\")\n",
    "Salary2.set_ylabel(\"# of Employees\")"
   ]
  },
  {
   "cell_type": "markdown",
   "id": "aeaa6680",
   "metadata": {},
   "source": [
    "### NOTE: Highest number of employees pay rates fall in the medium range."
   ]
  },
  {
   "cell_type": "markdown",
   "id": "8661c8ad",
   "metadata": {},
   "source": [
    "## Bar chart for 'department'"
   ]
  },
  {
   "cell_type": "code",
   "execution_count": 412,
   "id": "03e5b9e0",
   "metadata": {},
   "outputs": [
    {
     "data": {
      "text/plain": [
       "Text(0, 0.5, '# of Employees')"
      ]
     },
     "execution_count": 412,
     "metadata": {},
     "output_type": "execute_result"
    },
    {
     "data": {
      "image/png": "[encoded data removed]",
      "text/plain": [
       "<Figure size 432x288 with 1 Axes>"
      ]
     },
     "metadata": {
      "needs_background": "light"
     },
     "output_type": "display_data"
    }
   ],
   "source": [
    "Dept2 = Emp_Turn_Replaced['department'].value_counts().plot(kind='bar')\n",
    "Dept2.set_title(\"# of Department Employees\")\n",
    "Dept2.set_xlabel(\"Department Categories\")\n",
    "Dept2.set_ylabel(\"# of Employees\")"
   ]
  },
  {
   "cell_type": "markdown",
   "id": "dbc98289",
   "metadata": {},
   "source": [
    "### NOTE: The sales dept has the highest number of employees, followed by retail, operations and engineering.\n",
    "### Also of note: Scatterplot NOT a good option"
   ]
  },
  {
   "cell_type": "markdown",
   "id": "8dea32a5",
   "metadata": {},
   "source": [
    "## Independent Chi-Square with Salary Column\n",
    "### Hypothesis: There is relationship between salary and employee's decision to stay/go.\n",
    "### Null Hypothesis: There is no relationship between salaray level and employee's retention.\n",
    "### Create a Contingency Table\n",
    "### Test Assumptions and Run the Analysis \n",
    "#### The first thing, before running independent Chi-Square analysis: create a contingency table.\n"
   ]
  },
  {
   "cell_type": "code",
   "execution_count": 303,
   "id": "af1f6a7c",
   "metadata": {},
   "outputs": [],
   "source": [
    "Emp_Turn_R_Crosstab = pd.crosstab(Emp_Turn_Replaced['left'], Emp_Turn_Replaced['salary'])\n"
   ]
  },
  {
   "cell_type": "code",
   "execution_count": 304,
   "id": "314191d0",
   "metadata": {},
   "outputs": [
    {
     "data": {
      "text/html": [
       "<div>\n",
       "<style scoped>\n",
       "    .dataframe tbody tr th:only-of-type {\n",
       "        vertical-align: middle;\n",
       "    }\n",
       "\n",
       "    .dataframe tbody tr th {\n",
       "        vertical-align: top;\n",
       "    }\n",
       "\n",
       "    .dataframe thead th {\n",
       "        text-align: right;\n",
       "    }\n",
       "</style>\n",
       "<table border=\"1\" class=\"dataframe\">\n",
       "  <thead>\n",
       "    <tr style=\"text-align: right;\">\n",
       "      <th>salary</th>\n",
       "      <th>high</th>\n",
       "      <th>low</th>\n",
       "      <th>medium</th>\n",
       "    </tr>\n",
       "    <tr>\n",
       "      <th>left</th>\n",
       "      <th></th>\n",
       "      <th></th>\n",
       "      <th></th>\n",
       "    </tr>\n",
       "  </thead>\n",
       "  <tbody>\n",
       "    <tr>\n",
       "      <th>0</th>\n",
       "      <td>1106</td>\n",
       "      <td>990</td>\n",
       "      <td>4660</td>\n",
       "    </tr>\n",
       "    <tr>\n",
       "      <th>1</th>\n",
       "      <td>442</td>\n",
       "      <td>391</td>\n",
       "      <td>1951</td>\n",
       "    </tr>\n",
       "  </tbody>\n",
       "</table>\n",
       "</div>"
      ],
      "text/plain": [
       "salary  high  low  medium\n",
       "left                     \n",
       "0       1106  990    4660\n",
       "1        442  391    1951"
      ]
     },
     "execution_count": 304,
     "metadata": {},
     "output_type": "execute_result"
    }
   ],
   "source": [
    "\n",
    "Emp_Turn_R_Crosstab"
   ]
  },
  {
   "cell_type": "code",
   "execution_count": 305,
   "id": "0f31c988",
   "metadata": {},
   "outputs": [
    {
     "data": {
      "text/html": [
       "<div>\n",
       "<style scoped>\n",
       "    .dataframe tbody tr th:only-of-type {\n",
       "        vertical-align: middle;\n",
       "    }\n",
       "\n",
       "    .dataframe tbody tr th {\n",
       "        vertical-align: top;\n",
       "    }\n",
       "\n",
       "    .dataframe thead th {\n",
       "        text-align: right;\n",
       "    }\n",
       "</style>\n",
       "<table border=\"1\" class=\"dataframe\">\n",
       "  <thead>\n",
       "    <tr style=\"text-align: right;\">\n",
       "      <th></th>\n",
       "      <th>department</th>\n",
       "      <th>salary</th>\n",
       "      <th>satisfaction</th>\n",
       "      <th>avg_hrs_month</th>\n",
       "      <th>left</th>\n",
       "      <th>tenure</th>\n",
       "      <th>SalaryR</th>\n",
       "      <th>DeptR</th>\n",
       "    </tr>\n",
       "  </thead>\n",
       "  <tbody>\n",
       "    <tr>\n",
       "      <th>0</th>\n",
       "      <td>operations</td>\n",
       "      <td>low</td>\n",
       "      <td>0.626759</td>\n",
       "      <td>180.866070</td>\n",
       "      <td>0</td>\n",
       "      <td>5.0</td>\n",
       "      <td>0</td>\n",
       "      <td>6</td>\n",
       "    </tr>\n",
       "    <tr>\n",
       "      <th>1</th>\n",
       "      <td>operations</td>\n",
       "      <td>medium</td>\n",
       "      <td>0.443679</td>\n",
       "      <td>182.708149</td>\n",
       "      <td>0</td>\n",
       "      <td>6.0</td>\n",
       "      <td>1</td>\n",
       "      <td>6</td>\n",
       "    </tr>\n",
       "    <tr>\n",
       "      <th>2</th>\n",
       "      <td>support</td>\n",
       "      <td>medium</td>\n",
       "      <td>0.446823</td>\n",
       "      <td>184.416084</td>\n",
       "      <td>0</td>\n",
       "      <td>6.0</td>\n",
       "      <td>1</td>\n",
       "      <td>9</td>\n",
       "    </tr>\n",
       "    <tr>\n",
       "      <th>3</th>\n",
       "      <td>logistics</td>\n",
       "      <td>high</td>\n",
       "      <td>0.440139</td>\n",
       "      <td>188.707545</td>\n",
       "      <td>0</td>\n",
       "      <td>8.0</td>\n",
       "      <td>2</td>\n",
       "      <td>4</td>\n",
       "    </tr>\n",
       "    <tr>\n",
       "      <th>4</th>\n",
       "      <td>sales</td>\n",
       "      <td>high</td>\n",
       "      <td>0.577607</td>\n",
       "      <td>179.821083</td>\n",
       "      <td>0</td>\n",
       "      <td>5.0</td>\n",
       "      <td>2</td>\n",
       "      <td>8</td>\n",
       "    </tr>\n",
       "    <tr>\n",
       "      <th>...</th>\n",
       "      <td>...</td>\n",
       "      <td>...</td>\n",
       "      <td>...</td>\n",
       "      <td>...</td>\n",
       "      <td>...</td>\n",
       "      <td>...</td>\n",
       "      <td>...</td>\n",
       "      <td>...</td>\n",
       "    </tr>\n",
       "    <tr>\n",
       "      <th>9535</th>\n",
       "      <td>operations</td>\n",
       "      <td>medium</td>\n",
       "      <td>0.543641</td>\n",
       "      <td>188.155738</td>\n",
       "      <td>1</td>\n",
       "      <td>8.0</td>\n",
       "      <td>1</td>\n",
       "      <td>6</td>\n",
       "    </tr>\n",
       "    <tr>\n",
       "      <th>9536</th>\n",
       "      <td>logistics</td>\n",
       "      <td>medium</td>\n",
       "      <td>0.549048</td>\n",
       "      <td>188.176164</td>\n",
       "      <td>1</td>\n",
       "      <td>8.0</td>\n",
       "      <td>1</td>\n",
       "      <td>4</td>\n",
       "    </tr>\n",
       "    <tr>\n",
       "      <th>9537</th>\n",
       "      <td>operations</td>\n",
       "      <td>low</td>\n",
       "      <td>0.705425</td>\n",
       "      <td>186.531008</td>\n",
       "      <td>1</td>\n",
       "      <td>7.0</td>\n",
       "      <td>0</td>\n",
       "      <td>6</td>\n",
       "    </tr>\n",
       "    <tr>\n",
       "      <th>9538</th>\n",
       "      <td>IT</td>\n",
       "      <td>medium</td>\n",
       "      <td>0.607287</td>\n",
       "      <td>187.641370</td>\n",
       "      <td>1</td>\n",
       "      <td>8.0</td>\n",
       "      <td>1</td>\n",
       "      <td>3</td>\n",
       "    </tr>\n",
       "    <tr>\n",
       "      <th>9539</th>\n",
       "      <td>finance</td>\n",
       "      <td>low</td>\n",
       "      <td>0.706455</td>\n",
       "      <td>185.920934</td>\n",
       "      <td>1</td>\n",
       "      <td>7.0</td>\n",
       "      <td>0</td>\n",
       "      <td>2</td>\n",
       "    </tr>\n",
       "  </tbody>\n",
       "</table>\n",
       "<p>9540 rows × 8 columns</p>\n",
       "</div>"
      ],
      "text/plain": [
       "      department  salary  satisfaction  avg_hrs_month  left  tenure  SalaryR  \\\n",
       "0     operations     low      0.626759     180.866070     0     5.0        0   \n",
       "1     operations  medium      0.443679     182.708149     0     6.0        1   \n",
       "2        support  medium      0.446823     184.416084     0     6.0        1   \n",
       "3      logistics    high      0.440139     188.707545     0     8.0        2   \n",
       "4          sales    high      0.577607     179.821083     0     5.0        2   \n",
       "...          ...     ...           ...            ...   ...     ...      ...   \n",
       "9535  operations  medium      0.543641     188.155738     1     8.0        1   \n",
       "9536   logistics  medium      0.549048     188.176164     1     8.0        1   \n",
       "9537  operations     low      0.705425     186.531008     1     7.0        0   \n",
       "9538          IT  medium      0.607287     187.641370     1     8.0        1   \n",
       "9539     finance     low      0.706455     185.920934     1     7.0        0   \n",
       "\n",
       "      DeptR  \n",
       "0         6  \n",
       "1         6  \n",
       "2         9  \n",
       "3         4  \n",
       "4         8  \n",
       "...     ...  \n",
       "9535      6  \n",
       "9536      4  \n",
       "9537      6  \n",
       "9538      3  \n",
       "9539      2  \n",
       "\n",
       "[9540 rows x 8 columns]"
      ]
     },
     "execution_count": 305,
     "metadata": {},
     "output_type": "execute_result"
    }
   ],
   "source": [
    "Emp_Turn_Replaced"
   ]
  },
  {
   "cell_type": "code",
   "execution_count": 306,
   "id": "ba4a1efa",
   "metadata": {},
   "outputs": [
    {
     "name": "stdout",
     "output_type": "stream",
     "text": [
      "<class 'pandas.core.frame.DataFrame'>\n",
      "RangeIndex: 9540 entries, 0 to 9539\n",
      "Data columns (total 8 columns):\n",
      " #   Column         Non-Null Count  Dtype  \n",
      "---  ------         --------------  -----  \n",
      " 0   department     9540 non-null   object \n",
      " 1   salary         9540 non-null   object \n",
      " 2   satisfaction   9540 non-null   float64\n",
      " 3   avg_hrs_month  9540 non-null   float64\n",
      " 4   left           9540 non-null   int64  \n",
      " 5   tenure         9540 non-null   float64\n",
      " 6   SalaryR        9540 non-null   int64  \n",
      " 7   DeptR          9540 non-null   int64  \n",
      "dtypes: float64(3), int64(3), object(2)\n",
      "memory usage: 596.4+ KB\n"
     ]
    }
   ],
   "source": [
    "Emp_Turn_Replaced.info()"
   ]
  },
  {
   "cell_type": "markdown",
   "id": "c631b8ce",
   "metadata": {},
   "source": [
    "## Running the Independent Chi-Square\n"
   ]
  },
  {
   "cell_type": "code",
   "execution_count": 413,
   "id": "cf33faa6",
   "metadata": {},
   "outputs": [
    {
     "data": {
      "text/plain": [
       "(1.1483611437561942,\n",
       " 0.5631661539699939,\n",
       " 2,\n",
       " array([[1096.25660377,  977.99119497, 4681.75220126],\n",
       "        [ 451.74339623,  403.00880503, 1929.24779874]]))"
      ]
     },
     "execution_count": 413,
     "metadata": {},
     "output_type": "execute_result"
    }
   ],
   "source": [
    "##Once the contingency table is made, then run the function stats.chi2_contingency on the contingency table created:\n",
    "stats.chi2_contingency(Emp_Turn_R_Crosstab)\n"
   ]
  },
  {
   "cell_type": "markdown",
   "id": "7eb13742",
   "metadata": {},
   "source": [
    "### 1st number is Chi-Square statistic, second# is p-value associated with chi-square statistic, last is array-which has numbers all over, indicating 'salary' and 'left' do not have any significant relationship.\n",
    "### Assumption met of the minimum # of 5 samples per cell. \n",
    "## RESULTS of Chi-Square test indicate the salary level is not related to whether the employee leaves the company or not. (This suprised me-not what I expected)\n",
    "### So we reject the alternative hypothesis that salary affects the employee's staying or going-and we accept the null hypothesis."
   ]
  },
  {
   "cell_type": "markdown",
   "id": "5a9e727c",
   "metadata": {},
   "source": [
    "## Run single correlations\n"
   ]
  },
  {
   "cell_type": "code",
   "execution_count": 279,
   "id": "dadc17f5",
   "metadata": {},
   "outputs": [
    {
     "data": {
      "text/plain": [
       "-0.14624644316489163"
      ]
     },
     "execution_count": 279,
     "metadata": {},
     "output_type": "execute_result"
    }
   ],
   "source": [
    "Emp_Turn_Replaced['satisfaction'].corr(Emp_Turn_Replaced['tenure'])\n"
   ]
  },
  {
   "cell_type": "code",
   "execution_count": 280,
   "id": "3f5e8107",
   "metadata": {},
   "outputs": [
    {
     "data": {
      "text/plain": [
       "-0.14314181656853991"
      ]
     },
     "execution_count": 280,
     "metadata": {},
     "output_type": "execute_result"
    }
   ],
   "source": [
    "Emp_Turn_Replaced['satisfaction'].corr(Emp_Turn_Replaced['avg_hrs_month'])\n"
   ]
  },
  {
   "cell_type": "code",
   "execution_count": 398,
   "id": "ef0f3fc1",
   "metadata": {},
   "outputs": [
    {
     "data": {
      "text/plain": [
       "0.9786178937225353"
      ]
     },
     "execution_count": 398,
     "metadata": {},
     "output_type": "execute_result"
    }
   ],
   "source": [
    "Emp_Turn_Replaced['avg_hrs_month'].corr(Emp_Turn_Replaced['tenure'])\n"
   ]
  },
  {
   "cell_type": "code",
   "execution_count": 383,
   "id": "81f9767b",
   "metadata": {},
   "outputs": [
    {
     "data": {
      "text/plain": [
       "0.005097269987879844"
      ]
     },
     "execution_count": 383,
     "metadata": {},
     "output_type": "execute_result"
    }
   ],
   "source": [
    "Emp_Turn_Replaced['SalaryR'].corr(Emp_Turn_Replaced['tenure'])\n"
   ]
  },
  {
   "cell_type": "code",
   "execution_count": 384,
   "id": "d8ad232a",
   "metadata": {},
   "outputs": [
    {
     "data": {
      "text/plain": [
       "0.008386433359757604"
      ]
     },
     "execution_count": 384,
     "metadata": {},
     "output_type": "execute_result"
    }
   ],
   "source": [
    "Emp_Turn_Replaced['DeptR'].corr(Emp_Turn_Replaced['tenure'])\n"
   ]
  },
  {
   "cell_type": "code",
   "execution_count": 388,
   "id": "38b9b86a",
   "metadata": {},
   "outputs": [
    {
     "data": {
      "text/plain": [
       "0.000943188481150833"
      ]
     },
     "execution_count": 388,
     "metadata": {},
     "output_type": "execute_result"
    }
   ],
   "source": [
    "Emp_Turn_Replaced['SalaryR'].corr(Emp_Turn_Replaced['left'])\n"
   ]
  },
  {
   "cell_type": "code",
   "execution_count": 393,
   "id": "03e52b16",
   "metadata": {},
   "outputs": [
    {
     "data": {
      "text/plain": [
       "0.0033177583616279217"
      ]
     },
     "execution_count": 393,
     "metadata": {},
     "output_type": "execute_result"
    }
   ],
   "source": [
    "Emp_Turn_Replaced['DeptR'].corr(Emp_Turn_Replaced['left'])\n"
   ]
  },
  {
   "cell_type": "code",
   "execution_count": 394,
   "id": "02ed8155",
   "metadata": {},
   "outputs": [
    {
     "data": {
      "text/plain": [
       "-0.009720701331017491"
      ]
     },
     "execution_count": 394,
     "metadata": {},
     "output_type": "execute_result"
    }
   ],
   "source": [
    "Emp_Turn_Replaced['satisfaction'].corr(Emp_Turn_Replaced['left'])\n"
   ]
  },
  {
   "cell_type": "code",
   "execution_count": 395,
   "id": "8feda6aa",
   "metadata": {},
   "outputs": [
    {
     "data": {
      "text/plain": [
       "0.010521277202601645"
      ]
     },
     "execution_count": 395,
     "metadata": {},
     "output_type": "execute_result"
    }
   ],
   "source": [
    "Emp_Turn_Replaced['tenure'].corr(Emp_Turn_Replaced['left'])\n"
   ]
  },
  {
   "cell_type": "code",
   "execution_count": 397,
   "id": "81f2ac99",
   "metadata": {},
   "outputs": [
    {
     "data": {
      "text/plain": [
       "0.009007855568643145"
      ]
     },
     "execution_count": 397,
     "metadata": {},
     "output_type": "execute_result"
    }
   ],
   "source": [
    "Emp_Turn_Replaced['avg_hrs_month'].corr(Emp_Turn_Replaced['left'])\n"
   ]
  },
  {
   "cell_type": "code",
   "execution_count": 399,
   "id": "d535d2e8",
   "metadata": {},
   "outputs": [
    {
     "data": {
      "text/plain": [
       "-0.1431418165685399"
      ]
     },
     "execution_count": 399,
     "metadata": {},
     "output_type": "execute_result"
    }
   ],
   "source": [
    "Emp_Turn_Replaced['avg_hrs_month'].corr(Emp_Turn_Replaced['satisfaction'])\n"
   ]
  },
  {
   "cell_type": "code",
   "execution_count": 400,
   "id": "927da790",
   "metadata": {},
   "outputs": [
    {
     "data": {
      "text/plain": [
       "-0.14624644316489163"
      ]
     },
     "execution_count": 400,
     "metadata": {},
     "output_type": "execute_result"
    }
   ],
   "source": [
    "Emp_Turn_Replaced['tenure'].corr(Emp_Turn_Replaced['satisfaction'])\n"
   ]
  },
  {
   "cell_type": "markdown",
   "id": "fadbcdba",
   "metadata": {},
   "source": [
    "### Note: The 97% results indicates there is a strong relationship between employee's tenure and average hours worked in a month. \n",
    "### Also, avg_hrs_month and tenure both are slightly correlated to employee satisfaction by a tiny amount at 14%, which seems so small, but all the other variables show as less than 1%. Tenure comes in at a 1% correlation to the \"left\" column."
   ]
  },
  {
   "cell_type": "markdown",
   "id": "2fafee68",
   "metadata": {},
   "source": [
    "## Create Correlation Matrix\n",
    "### Drop non-continuous data\n"
   ]
  },
  {
   "cell_type": "code",
   "execution_count": 282,
   "id": "8a94cd43",
   "metadata": {},
   "outputs": [],
   "source": [
    "Emp_Turn_DROP = Emp_Turn_Replaced.drop(['salary', 'department'], axis=1)\n"
   ]
  },
  {
   "cell_type": "code",
   "execution_count": 283,
   "id": "7ed1b9f9",
   "metadata": {},
   "outputs": [
    {
     "data": {
      "text/html": [
       "<div>\n",
       "<style scoped>\n",
       "    .dataframe tbody tr th:only-of-type {\n",
       "        vertical-align: middle;\n",
       "    }\n",
       "\n",
       "    .dataframe tbody tr th {\n",
       "        vertical-align: top;\n",
       "    }\n",
       "\n",
       "    .dataframe thead th {\n",
       "        text-align: right;\n",
       "    }\n",
       "</style>\n",
       "<table border=\"1\" class=\"dataframe\">\n",
       "  <thead>\n",
       "    <tr style=\"text-align: right;\">\n",
       "      <th></th>\n",
       "      <th>satisfaction</th>\n",
       "      <th>avg_hrs_month</th>\n",
       "      <th>left</th>\n",
       "      <th>tenure</th>\n",
       "      <th>SalaryR</th>\n",
       "      <th>DeptR</th>\n",
       "    </tr>\n",
       "  </thead>\n",
       "  <tbody>\n",
       "    <tr>\n",
       "      <th>0</th>\n",
       "      <td>0.626759</td>\n",
       "      <td>180.866070</td>\n",
       "      <td>0</td>\n",
       "      <td>5.0</td>\n",
       "      <td>0</td>\n",
       "      <td>6</td>\n",
       "    </tr>\n",
       "    <tr>\n",
       "      <th>1</th>\n",
       "      <td>0.443679</td>\n",
       "      <td>182.708149</td>\n",
       "      <td>0</td>\n",
       "      <td>6.0</td>\n",
       "      <td>1</td>\n",
       "      <td>6</td>\n",
       "    </tr>\n",
       "    <tr>\n",
       "      <th>2</th>\n",
       "      <td>0.446823</td>\n",
       "      <td>184.416084</td>\n",
       "      <td>0</td>\n",
       "      <td>6.0</td>\n",
       "      <td>1</td>\n",
       "      <td>9</td>\n",
       "    </tr>\n",
       "    <tr>\n",
       "      <th>3</th>\n",
       "      <td>0.440139</td>\n",
       "      <td>188.707545</td>\n",
       "      <td>0</td>\n",
       "      <td>8.0</td>\n",
       "      <td>2</td>\n",
       "      <td>4</td>\n",
       "    </tr>\n",
       "    <tr>\n",
       "      <th>4</th>\n",
       "      <td>0.577607</td>\n",
       "      <td>179.821083</td>\n",
       "      <td>0</td>\n",
       "      <td>5.0</td>\n",
       "      <td>2</td>\n",
       "      <td>8</td>\n",
       "    </tr>\n",
       "    <tr>\n",
       "      <th>...</th>\n",
       "      <td>...</td>\n",
       "      <td>...</td>\n",
       "      <td>...</td>\n",
       "      <td>...</td>\n",
       "      <td>...</td>\n",
       "      <td>...</td>\n",
       "    </tr>\n",
       "    <tr>\n",
       "      <th>9535</th>\n",
       "      <td>0.543641</td>\n",
       "      <td>188.155738</td>\n",
       "      <td>1</td>\n",
       "      <td>8.0</td>\n",
       "      <td>1</td>\n",
       "      <td>6</td>\n",
       "    </tr>\n",
       "    <tr>\n",
       "      <th>9536</th>\n",
       "      <td>0.549048</td>\n",
       "      <td>188.176164</td>\n",
       "      <td>1</td>\n",
       "      <td>8.0</td>\n",
       "      <td>1</td>\n",
       "      <td>4</td>\n",
       "    </tr>\n",
       "    <tr>\n",
       "      <th>9537</th>\n",
       "      <td>0.705425</td>\n",
       "      <td>186.531008</td>\n",
       "      <td>1</td>\n",
       "      <td>7.0</td>\n",
       "      <td>0</td>\n",
       "      <td>6</td>\n",
       "    </tr>\n",
       "    <tr>\n",
       "      <th>9538</th>\n",
       "      <td>0.607287</td>\n",
       "      <td>187.641370</td>\n",
       "      <td>1</td>\n",
       "      <td>8.0</td>\n",
       "      <td>1</td>\n",
       "      <td>3</td>\n",
       "    </tr>\n",
       "    <tr>\n",
       "      <th>9539</th>\n",
       "      <td>0.706455</td>\n",
       "      <td>185.920934</td>\n",
       "      <td>1</td>\n",
       "      <td>7.0</td>\n",
       "      <td>0</td>\n",
       "      <td>2</td>\n",
       "    </tr>\n",
       "  </tbody>\n",
       "</table>\n",
       "<p>9540 rows × 6 columns</p>\n",
       "</div>"
      ],
      "text/plain": [
       "      satisfaction  avg_hrs_month  left  tenure  SalaryR  DeptR\n",
       "0         0.626759     180.866070     0     5.0        0      6\n",
       "1         0.443679     182.708149     0     6.0        1      6\n",
       "2         0.446823     184.416084     0     6.0        1      9\n",
       "3         0.440139     188.707545     0     8.0        2      4\n",
       "4         0.577607     179.821083     0     5.0        2      8\n",
       "...            ...            ...   ...     ...      ...    ...\n",
       "9535      0.543641     188.155738     1     8.0        1      6\n",
       "9536      0.549048     188.176164     1     8.0        1      4\n",
       "9537      0.705425     186.531008     1     7.0        0      6\n",
       "9538      0.607287     187.641370     1     8.0        1      3\n",
       "9539      0.706455     185.920934     1     7.0        0      2\n",
       "\n",
       "[9540 rows x 6 columns]"
      ]
     },
     "execution_count": 283,
     "metadata": {},
     "output_type": "execute_result"
    }
   ],
   "source": [
    "Emp_Turn_DROP"
   ]
  },
  {
   "cell_type": "markdown",
   "id": "17ed8316",
   "metadata": {},
   "source": [
    "### Run correlation matrix on Emp_Turn_DROP dataset"
   ]
  },
  {
   "cell_type": "code",
   "execution_count": 309,
   "id": "27d8854c",
   "metadata": {},
   "outputs": [
    {
     "data": {
      "text/html": [
       "<div>\n",
       "<style scoped>\n",
       "    .dataframe tbody tr th:only-of-type {\n",
       "        vertical-align: middle;\n",
       "    }\n",
       "\n",
       "    .dataframe tbody tr th {\n",
       "        vertical-align: top;\n",
       "    }\n",
       "\n",
       "    .dataframe thead th {\n",
       "        text-align: right;\n",
       "    }\n",
       "</style>\n",
       "<table border=\"1\" class=\"dataframe\">\n",
       "  <thead>\n",
       "    <tr style=\"text-align: right;\">\n",
       "      <th></th>\n",
       "      <th>satisfaction</th>\n",
       "      <th>avg_hrs_month</th>\n",
       "      <th>left</th>\n",
       "      <th>tenure</th>\n",
       "      <th>SalaryR</th>\n",
       "      <th>DeptR</th>\n",
       "    </tr>\n",
       "  </thead>\n",
       "  <tbody>\n",
       "    <tr>\n",
       "      <th>satisfaction</th>\n",
       "      <td>1.000000</td>\n",
       "      <td>-0.143142</td>\n",
       "      <td>-0.009721</td>\n",
       "      <td>-0.146246</td>\n",
       "      <td>-0.004510</td>\n",
       "      <td>-0.006741</td>\n",
       "    </tr>\n",
       "    <tr>\n",
       "      <th>avg_hrs_month</th>\n",
       "      <td>-0.143142</td>\n",
       "      <td>1.000000</td>\n",
       "      <td>0.009008</td>\n",
       "      <td>0.978618</td>\n",
       "      <td>0.007697</td>\n",
       "      <td>0.004321</td>\n",
       "    </tr>\n",
       "    <tr>\n",
       "      <th>left</th>\n",
       "      <td>-0.009721</td>\n",
       "      <td>0.009008</td>\n",
       "      <td>1.000000</td>\n",
       "      <td>0.010521</td>\n",
       "      <td>0.000943</td>\n",
       "      <td>0.003318</td>\n",
       "    </tr>\n",
       "    <tr>\n",
       "      <th>tenure</th>\n",
       "      <td>-0.146246</td>\n",
       "      <td>0.978618</td>\n",
       "      <td>0.010521</td>\n",
       "      <td>1.000000</td>\n",
       "      <td>0.005097</td>\n",
       "      <td>0.008386</td>\n",
       "    </tr>\n",
       "    <tr>\n",
       "      <th>SalaryR</th>\n",
       "      <td>-0.004510</td>\n",
       "      <td>0.007697</td>\n",
       "      <td>0.000943</td>\n",
       "      <td>0.005097</td>\n",
       "      <td>1.000000</td>\n",
       "      <td>-0.004423</td>\n",
       "    </tr>\n",
       "    <tr>\n",
       "      <th>DeptR</th>\n",
       "      <td>-0.006741</td>\n",
       "      <td>0.004321</td>\n",
       "      <td>0.003318</td>\n",
       "      <td>0.008386</td>\n",
       "      <td>-0.004423</td>\n",
       "      <td>1.000000</td>\n",
       "    </tr>\n",
       "  </tbody>\n",
       "</table>\n",
       "</div>"
      ],
      "text/plain": [
       "               satisfaction  avg_hrs_month      left    tenure   SalaryR  \\\n",
       "satisfaction       1.000000      -0.143142 -0.009721 -0.146246 -0.004510   \n",
       "avg_hrs_month     -0.143142       1.000000  0.009008  0.978618  0.007697   \n",
       "left              -0.009721       0.009008  1.000000  0.010521  0.000943   \n",
       "tenure            -0.146246       0.978618  0.010521  1.000000  0.005097   \n",
       "SalaryR           -0.004510       0.007697  0.000943  0.005097  1.000000   \n",
       "DeptR             -0.006741       0.004321  0.003318  0.008386 -0.004423   \n",
       "\n",
       "                  DeptR  \n",
       "satisfaction  -0.006741  \n",
       "avg_hrs_month  0.004321  \n",
       "left           0.003318  \n",
       "tenure         0.008386  \n",
       "SalaryR       -0.004423  \n",
       "DeptR          1.000000  "
      ]
     },
     "execution_count": 309,
     "metadata": {},
     "output_type": "execute_result"
    }
   ],
   "source": [
    "Emp_Turn_DROP.corr(method='pearson')\n"
   ]
  },
  {
   "cell_type": "code",
   "execution_count": 414,
   "id": "c67a41d0",
   "metadata": {},
   "outputs": [
    {
     "data": {
      "text/html": [
       "<div>\n",
       "<style scoped>\n",
       "    .dataframe tbody tr th:only-of-type {\n",
       "        vertical-align: middle;\n",
       "    }\n",
       "\n",
       "    .dataframe tbody tr th {\n",
       "        vertical-align: top;\n",
       "    }\n",
       "\n",
       "    .dataframe thead th {\n",
       "        text-align: right;\n",
       "    }\n",
       "</style>\n",
       "<table border=\"1\" class=\"dataframe\">\n",
       "  <thead>\n",
       "    <tr style=\"text-align: right;\">\n",
       "      <th></th>\n",
       "      <th>satisfaction</th>\n",
       "      <th>avg_hrs_month</th>\n",
       "      <th>left</th>\n",
       "      <th>tenure</th>\n",
       "      <th>SalaryR</th>\n",
       "      <th>DeptR</th>\n",
       "    </tr>\n",
       "  </thead>\n",
       "  <tbody>\n",
       "    <tr>\n",
       "      <th>satisfaction</th>\n",
       "      <td>1.000000</td>\n",
       "      <td>-0.143142</td>\n",
       "      <td>-0.009721</td>\n",
       "      <td>-0.146246</td>\n",
       "      <td>-0.004510</td>\n",
       "      <td>-0.006741</td>\n",
       "    </tr>\n",
       "    <tr>\n",
       "      <th>avg_hrs_month</th>\n",
       "      <td>-0.143142</td>\n",
       "      <td>1.000000</td>\n",
       "      <td>0.009008</td>\n",
       "      <td>0.978618</td>\n",
       "      <td>0.007697</td>\n",
       "      <td>0.004321</td>\n",
       "    </tr>\n",
       "    <tr>\n",
       "      <th>left</th>\n",
       "      <td>-0.009721</td>\n",
       "      <td>0.009008</td>\n",
       "      <td>1.000000</td>\n",
       "      <td>0.010521</td>\n",
       "      <td>0.000943</td>\n",
       "      <td>0.003318</td>\n",
       "    </tr>\n",
       "    <tr>\n",
       "      <th>tenure</th>\n",
       "      <td>-0.146246</td>\n",
       "      <td>0.978618</td>\n",
       "      <td>0.010521</td>\n",
       "      <td>1.000000</td>\n",
       "      <td>0.005097</td>\n",
       "      <td>0.008386</td>\n",
       "    </tr>\n",
       "    <tr>\n",
       "      <th>SalaryR</th>\n",
       "      <td>-0.004510</td>\n",
       "      <td>0.007697</td>\n",
       "      <td>0.000943</td>\n",
       "      <td>0.005097</td>\n",
       "      <td>1.000000</td>\n",
       "      <td>-0.004423</td>\n",
       "    </tr>\n",
       "    <tr>\n",
       "      <th>DeptR</th>\n",
       "      <td>-0.006741</td>\n",
       "      <td>0.004321</td>\n",
       "      <td>0.003318</td>\n",
       "      <td>0.008386</td>\n",
       "      <td>-0.004423</td>\n",
       "      <td>1.000000</td>\n",
       "    </tr>\n",
       "  </tbody>\n",
       "</table>\n",
       "</div>"
      ],
      "text/plain": [
       "               satisfaction  avg_hrs_month      left    tenure   SalaryR  \\\n",
       "satisfaction       1.000000      -0.143142 -0.009721 -0.146246 -0.004510   \n",
       "avg_hrs_month     -0.143142       1.000000  0.009008  0.978618  0.007697   \n",
       "left              -0.009721       0.009008  1.000000  0.010521  0.000943   \n",
       "tenure            -0.146246       0.978618  0.010521  1.000000  0.005097   \n",
       "SalaryR           -0.004510       0.007697  0.000943  0.005097  1.000000   \n",
       "DeptR             -0.006741       0.004321  0.003318  0.008386 -0.004423   \n",
       "\n",
       "                  DeptR  \n",
       "satisfaction  -0.006741  \n",
       "avg_hrs_month  0.004321  \n",
       "left           0.003318  \n",
       "tenure         0.008386  \n",
       "SalaryR       -0.004423  \n",
       "DeptR          1.000000  "
      ]
     },
     "execution_count": 414,
     "metadata": {},
     "output_type": "execute_result"
    }
   ],
   "source": [
    "Emp_Turn_DROP.corr()"
   ]
  },
  {
   "cell_type": "code",
   "execution_count": 441,
   "id": "2f390eb0",
   "metadata": {},
   "outputs": [
    {
     "data": {
      "text/html": [
       "<style type=\"text/css\">\n",
       "#T_8edd3_row0_col0, #T_8edd3_row1_col1, #T_8edd3_row2_col2, #T_8edd3_row3_col3, #T_8edd3_row4_col4, #T_8edd3_row5_col5 {\n",
       "  background-color: #b40426;\n",
       "  color: #f1f1f1;\n",
       "}\n",
       "#T_8edd3_row0_col1, #T_8edd3_row4_col2, #T_8edd3_row4_col5, #T_8edd3_row5_col3 {\n",
       "  background-color: #3c4ec2;\n",
       "  color: #f1f1f1;\n",
       "}\n",
       "#T_8edd3_row0_col2 {\n",
       "  background-color: #5572df;\n",
       "  color: #f1f1f1;\n",
       "}\n",
       "#T_8edd3_row0_col3, #T_8edd3_row1_col0, #T_8edd3_row2_col0, #T_8edd3_row3_col0, #T_8edd3_row4_col0, #T_8edd3_row5_col0, #T_8edd3_row5_col1, #T_8edd3_row5_col2, #T_8edd3_row5_col4 {\n",
       "  background-color: #3b4cc0;\n",
       "  color: #f1f1f1;\n",
       "}\n",
       "#T_8edd3_row0_col4, #T_8edd3_row1_col5 {\n",
       "  background-color: #5875e1;\n",
       "  color: #f1f1f1;\n",
       "}\n",
       "#T_8edd3_row0_col5, #T_8edd3_row1_col4 {\n",
       "  background-color: #5977e3;\n",
       "  color: #f1f1f1;\n",
       "}\n",
       "#T_8edd3_row1_col2 {\n",
       "  background-color: #6282ea;\n",
       "  color: #f1f1f1;\n",
       "}\n",
       "#T_8edd3_row1_col3, #T_8edd3_row3_col1 {\n",
       "  background-color: #d44e41;\n",
       "  color: #f1f1f1;\n",
       "}\n",
       "#T_8edd3_row2_col1 {\n",
       "  background-color: #4961d2;\n",
       "  color: #f1f1f1;\n",
       "}\n",
       "#T_8edd3_row2_col3 {\n",
       "  background-color: #4a63d3;\n",
       "  color: #f1f1f1;\n",
       "}\n",
       "#T_8edd3_row2_col4, #T_8edd3_row2_col5 {\n",
       "  background-color: #3e51c5;\n",
       "  color: #f1f1f1;\n",
       "}\n",
       "#T_8edd3_row3_col2 {\n",
       "  background-color: #6485ec;\n",
       "  color: #f1f1f1;\n",
       "}\n",
       "#T_8edd3_row3_col4, #T_8edd3_row3_col5 {\n",
       "  background-color: #5a78e4;\n",
       "  color: #f1f1f1;\n",
       "}\n",
       "#T_8edd3_row4_col1, #T_8edd3_row4_col3 {\n",
       "  background-color: #3d50c3;\n",
       "  color: #f1f1f1;\n",
       "}\n",
       "</style>\n",
       "<table id=\"T_8edd3\">\n",
       "  <thead>\n",
       "    <tr>\n",
       "      <th class=\"blank level0\" >&nbsp;</th>\n",
       "      <th id=\"T_8edd3_level0_col0\" class=\"col_heading level0 col0\" >satisfaction</th>\n",
       "      <th id=\"T_8edd3_level0_col1\" class=\"col_heading level0 col1\" >avg_hrs_month</th>\n",
       "      <th id=\"T_8edd3_level0_col2\" class=\"col_heading level0 col2\" >left</th>\n",
       "      <th id=\"T_8edd3_level0_col3\" class=\"col_heading level0 col3\" >tenure</th>\n",
       "      <th id=\"T_8edd3_level0_col4\" class=\"col_heading level0 col4\" >SalaryR</th>\n",
       "      <th id=\"T_8edd3_level0_col5\" class=\"col_heading level0 col5\" >DeptR</th>\n",
       "    </tr>\n",
       "  </thead>\n",
       "  <tbody>\n",
       "    <tr>\n",
       "      <th id=\"T_8edd3_level0_row0\" class=\"row_heading level0 row0\" >satisfaction</th>\n",
       "      <td id=\"T_8edd3_row0_col0\" class=\"data row0 col0\" >1.0</td>\n",
       "      <td id=\"T_8edd3_row0_col1\" class=\"data row0 col1\" >-0.1</td>\n",
       "      <td id=\"T_8edd3_row0_col2\" class=\"data row0 col2\" >-0.013</td>\n",
       "      <td id=\"T_8edd3_row0_col3\" class=\"data row0 col3\" >-0.11</td>\n",
       "      <td id=\"T_8edd3_row0_col4\" class=\"data row0 col4\" >-0.0054</td>\n",
       "      <td id=\"T_8edd3_row0_col5\" class=\"data row0 col5\" >-0.002</td>\n",
       "    </tr>\n",
       "    <tr>\n",
       "      <th id=\"T_8edd3_level0_row1\" class=\"row_heading level0 row1\" >avg_hrs_month</th>\n",
       "      <td id=\"T_8edd3_row1_col0\" class=\"data row1 col0\" >-0.1</td>\n",
       "      <td id=\"T_8edd3_row1_col1\" class=\"data row1 col1\" >1.0</td>\n",
       "      <td id=\"T_8edd3_row1_col2\" class=\"data row1 col2\" >0.035</td>\n",
       "      <td id=\"T_8edd3_row1_col3\" class=\"data row1 col3\" >0.9</td>\n",
       "      <td id=\"T_8edd3_row1_col4\" class=\"data row1 col4\" >0.0052</td>\n",
       "      <td id=\"T_8edd3_row1_col5\" class=\"data row1 col5\" >0.00094</td>\n",
       "    </tr>\n",
       "    <tr>\n",
       "      <th id=\"T_8edd3_level0_row2\" class=\"row_heading level0 row2\" >left</th>\n",
       "      <td id=\"T_8edd3_row2_col0\" class=\"data row2 col0\" >-0.013</td>\n",
       "      <td id=\"T_8edd3_row2_col1\" class=\"data row2 col1\" >0.035</td>\n",
       "      <td id=\"T_8edd3_row2_col2\" class=\"data row2 col2\" >1.0</td>\n",
       "      <td id=\"T_8edd3_row2_col3\" class=\"data row2 col3\" >0.039</td>\n",
       "      <td id=\"T_8edd3_row2_col4\" class=\"data row2 col4\" >0.00082</td>\n",
       "      <td id=\"T_8edd3_row2_col5\" class=\"data row2 col5\" >0.00062</td>\n",
       "    </tr>\n",
       "    <tr>\n",
       "      <th id=\"T_8edd3_level0_row3\" class=\"row_heading level0 row3\" >tenure</th>\n",
       "      <td id=\"T_8edd3_row3_col0\" class=\"data row3 col0\" >-0.11</td>\n",
       "      <td id=\"T_8edd3_row3_col1\" class=\"data row3 col1\" >0.9</td>\n",
       "      <td id=\"T_8edd3_row3_col2\" class=\"data row3 col2\" >0.039</td>\n",
       "      <td id=\"T_8edd3_row3_col3\" class=\"data row3 col3\" >1.0</td>\n",
       "      <td id=\"T_8edd3_row3_col4\" class=\"data row3 col4\" >0.0034</td>\n",
       "      <td id=\"T_8edd3_row3_col5\" class=\"data row3 col5\" >0.0036</td>\n",
       "    </tr>\n",
       "    <tr>\n",
       "      <th id=\"T_8edd3_level0_row4\" class=\"row_heading level0 row4\" >SalaryR</th>\n",
       "      <td id=\"T_8edd3_row4_col0\" class=\"data row4 col0\" >-0.0054</td>\n",
       "      <td id=\"T_8edd3_row4_col1\" class=\"data row4 col1\" >0.0052</td>\n",
       "      <td id=\"T_8edd3_row4_col2\" class=\"data row4 col2\" >0.00082</td>\n",
       "      <td id=\"T_8edd3_row4_col3\" class=\"data row4 col3\" >0.0034</td>\n",
       "      <td id=\"T_8edd3_row4_col4\" class=\"data row4 col4\" >1.0</td>\n",
       "      <td id=\"T_8edd3_row4_col5\" class=\"data row4 col5\" >-0.0005</td>\n",
       "    </tr>\n",
       "    <tr>\n",
       "      <th id=\"T_8edd3_level0_row5\" class=\"row_heading level0 row5\" >DeptR</th>\n",
       "      <td id=\"T_8edd3_row5_col0\" class=\"data row5 col0\" >-0.002</td>\n",
       "      <td id=\"T_8edd3_row5_col1\" class=\"data row5 col1\" >0.00094</td>\n",
       "      <td id=\"T_8edd3_row5_col2\" class=\"data row5 col2\" >0.00062</td>\n",
       "      <td id=\"T_8edd3_row5_col3\" class=\"data row5 col3\" >0.0036</td>\n",
       "      <td id=\"T_8edd3_row5_col4\" class=\"data row5 col4\" >-0.0005</td>\n",
       "      <td id=\"T_8edd3_row5_col5\" class=\"data row5 col5\" >1.0</td>\n",
       "    </tr>\n",
       "  </tbody>\n",
       "</table>\n"
      ],
      "text/plain": [
       "<pandas.io.formats.style.Styler at 0x28ed57fd0>"
      ]
     },
     "execution_count": 441,
     "metadata": {},
     "output_type": "execute_result"
    }
   ],
   "source": [
    "Emp_Turn_DROP.corr(method='kendall').style.format(\"{:.2}\").background_gradient(cmap=plt.get_cmap('coolwarm'), axis=1)\n"
   ]
  },
  {
   "cell_type": "markdown",
   "id": "d03dbe90",
   "metadata": {},
   "source": [
    "### NOTE: Looks like tenure and avg_hrs_month are the only two columns/variables with any significant relation."
   ]
  },
  {
   "cell_type": "code",
   "execution_count": null,
   "id": "f2da95ae",
   "metadata": {},
   "outputs": [],
   "source": [
    "## Tenure and Average hours worked monthly...."
   ]
  },
  {
   "cell_type": "markdown",
   "id": "6fafd34b",
   "metadata": {},
   "source": [
    "# Make IV/DV into dataframes & Run logistic regression(s)"
   ]
  },
  {
   "cell_type": "code",
   "execution_count": 318,
   "id": "c6434e80",
   "metadata": {},
   "outputs": [],
   "source": [
    "x = Emp_Turn_DROP['DeptR']\n",
    "y = Emp_Turn_DROP['left']"
   ]
  },
  {
   "cell_type": "code",
   "execution_count": 319,
   "id": "4da82066",
   "metadata": {},
   "outputs": [
    {
     "name": "stdout",
     "output_type": "stream",
     "text": [
      "Optimization terminated successfully.\n",
      "         Current function value: 0.623703\n",
      "         Iterations 5\n",
      "                         Results: Logit\n",
      "=================================================================\n",
      "Model:              Logit            Pseudo R-squared: -0.033    \n",
      "Dependent Variable: left             AIC:              11902.2523\n",
      "Date:               2022-09-05 19:59 BIC:              11909.4156\n",
      "No. Observations:   9540             Log-Likelihood:   -5950.1   \n",
      "Df Model:           0                LL-Null:          -5760.0   \n",
      "Df Residuals:       9539             LLR p-value:      nan       \n",
      "Converged:          1.0000           Scale:            1.0000    \n",
      "No. Iterations:     5.0000                                       \n",
      "-------------------------------------------------------------------\n",
      "          Coef.    Std.Err.      z       P>|z|     [0.025    0.975]\n",
      "-------------------------------------------------------------------\n",
      "DeptR    -0.1316     0.0038   -34.4020   0.0000   -0.1391   -0.1241\n",
      "=================================================================\n",
      "\n"
     ]
    }
   ],
   "source": [
    "logit = sm.Logit(y,x)\n",
    "results = logit.fit()\n",
    "print(results.summary2())"
   ]
  },
  {
   "cell_type": "markdown",
   "id": "422a6212",
   "metadata": {},
   "source": [
    "## RESULTS1: \n",
    "### P>|z| column indicates, the department the employee works in, is not a significant influence on employee retention. Also Pseudo R-squared # indicates DeptR explains less than 3%  of the variance of an employee staying or leaving."
   ]
  },
  {
   "cell_type": "code",
   "execution_count": 320,
   "id": "4d3a5c13",
   "metadata": {},
   "outputs": [],
   "source": [
    "x = Emp_Turn_DROP['satisfaction']\n",
    "y = Emp_Turn_DROP['left']"
   ]
  },
  {
   "cell_type": "code",
   "execution_count": 321,
   "id": "5d001c36",
   "metadata": {},
   "outputs": [
    {
     "name": "stdout",
     "output_type": "stream",
     "text": [
      "Optimization terminated successfully.\n",
      "         Current function value: 0.610104\n",
      "         Iterations 5\n",
      "                         Results: Logit\n",
      "=================================================================\n",
      "Model:              Logit            Pseudo R-squared: -0.010    \n",
      "Dependent Variable: left             AIC:              11642.7862\n",
      "Date:               2022-09-05 20:07 BIC:              11649.9495\n",
      "No. Observations:   9540             Log-Likelihood:   -5820.4   \n",
      "Df Model:           0                LL-Null:          -5760.0   \n",
      "Df Residuals:       9539             LLR p-value:      nan       \n",
      "Converged:          1.0000           Scale:            1.0000    \n",
      "No. Iterations:     5.0000                                       \n",
      "-----------------------------------------------------------------\n",
      "                  Coef.  Std.Err.    z     P>|z|   [0.025  0.975]\n",
      "-----------------------------------------------------------------\n",
      "satisfaction     -1.6340   0.0435 -37.5509 0.0000 -1.7193 -1.5488\n",
      "=================================================================\n",
      "\n"
     ]
    }
   ],
   "source": [
    "logit = sm.Logit(y,x)\n",
    "results = logit.fit()\n",
    "print(results.summary2())"
   ]
  },
  {
   "cell_type": "markdown",
   "id": "28ec6c1a",
   "metadata": {},
   "source": [
    "## Results2:\n",
    "### P>|z| column indicates job satisfaction is not a significant influence on employee retention. Also Pseudo R-squared # indicates job satisfaction explains less than 1% of the variance of an employee staying or leaving."
   ]
  },
  {
   "cell_type": "code",
   "execution_count": 326,
   "id": "49061030",
   "metadata": {},
   "outputs": [],
   "source": [
    "x = Emp_Turn_DROP['avg_hrs_month']\n",
    "y = Emp_Turn_DROP['left']"
   ]
  },
  {
   "cell_type": "code",
   "execution_count": 327,
   "id": "f2d4bdfc",
   "metadata": {},
   "outputs": [
    {
     "name": "stdout",
     "output_type": "stream",
     "text": [
      "Optimization terminated successfully.\n",
      "         Current function value: 0.603899\n",
      "         Iterations 4\n",
      "                         Results: Logit\n",
      "=================================================================\n",
      "Model:              Logit            Pseudo R-squared: -0.000    \n",
      "Dependent Variable: left             AIC:              11524.3933\n",
      "Date:               2022-09-05 20:13 BIC:              11531.5565\n",
      "No. Observations:   9540             Log-Likelihood:   -5761.2   \n",
      "Df Model:           0                LL-Null:          -5760.0   \n",
      "Df Residuals:       9539             LLR p-value:      nan       \n",
      "Converged:          1.0000           Scale:            1.0000    \n",
      "No. Iterations:     4.0000                                       \n",
      "-----------------------------------------------------------------\n",
      "                  Coef.  Std.Err.    z     P>|z|   [0.025  0.975]\n",
      "-----------------------------------------------------------------\n",
      "avg_hrs_month    -0.0048   0.0001 -39.3369 0.0000 -0.0050 -0.0046\n",
      "=================================================================\n",
      "\n"
     ]
    }
   ],
   "source": [
    "logit = sm.Logit(y,x)\n",
    "results = logit.fit()\n",
    "print(results.summary2())"
   ]
  },
  {
   "cell_type": "markdown",
   "id": "2defe39f",
   "metadata": {},
   "source": [
    "## Results3:\n",
    "### P>|z| column indicates, average hours worked per month, is not a significant influence on employee retention. Also Pseudo R-squared # indicates satisfaction explains 0% of the variance of an employee staying or leaving."
   ]
  },
  {
   "cell_type": "code",
   "execution_count": 328,
   "id": "b555f105",
   "metadata": {},
   "outputs": [],
   "source": [
    "x = Emp_Turn_DROP['tenure']\n",
    "y = Emp_Turn_DROP['left']"
   ]
  },
  {
   "cell_type": "code",
   "execution_count": 329,
   "id": "1beb12be",
   "metadata": {},
   "outputs": [
    {
     "name": "stdout",
     "output_type": "stream",
     "text": [
      "Optimization terminated successfully.\n",
      "         Current function value: 0.608309\n",
      "         Iterations 5\n",
      "                         Results: Logit\n",
      "=================================================================\n",
      "Model:              Logit            Pseudo R-squared: -0.008    \n",
      "Dependent Variable: left             AIC:              11608.5323\n",
      "Date:               2022-09-05 20:17 BIC:              11615.6956\n",
      "No. Observations:   9540             Log-Likelihood:   -5803.3   \n",
      "Df Model:           0                LL-Null:          -5760.0   \n",
      "Df Residuals:       9539             LLR p-value:      nan       \n",
      "Converged:          1.0000           Scale:            1.0000    \n",
      "No. Iterations:     5.0000                                       \n",
      "-------------------------------------------------------------------\n",
      "          Coef.    Std.Err.      z       P>|z|     [0.025    0.975]\n",
      "-------------------------------------------------------------------\n",
      "tenure   -0.1295     0.0034   -38.1727   0.0000   -0.1361   -0.1228\n",
      "=================================================================\n",
      "\n"
     ]
    }
   ],
   "source": [
    "logit = sm.Logit(y,x)\n",
    "results = logit.fit()\n",
    "print(results.summary2())"
   ]
  },
  {
   "cell_type": "markdown",
   "id": "331cf0ad",
   "metadata": {},
   "source": [
    "## Results4:\n",
    "### P>|z| column indicates tenure is not a significant influence on employee retention. Also Pseudo R-squared # indicates tenure explains less than 1% of the variance of an employee staying or leaving."
   ]
  },
  {
   "cell_type": "markdown",
   "id": "d256f741",
   "metadata": {},
   "source": [
    "#### For decision Tree and Random Forest\n",
    "#### Specify x and y variables using subsetting. y is the column you are predicting, and x is everything you are using to predict it."
   ]
  },
  {
   "cell_type": "markdown",
   "id": "e780f27f",
   "metadata": {},
   "source": [
    "# Data Wrangling 2 with new portion of data: review, promoted, projects and bonus \n",
    "### Assessing these other variables to see if they're influential factors as analysis results to this point seem insuffient for the high employee turnover rate."
   ]
  },
  {
   "cell_type": "markdown",
   "id": "b7140f7a",
   "metadata": {},
   "source": [
    "## Re load dataset"
   ]
  },
  {
   "cell_type": "code",
   "execution_count": 344,
   "id": "04885fb9",
   "metadata": {},
   "outputs": [],
   "source": [
    "EmployeeTurnover2 = pd.read_csv('/Users/dorothycouch/employee_churn_data.csv')"
   ]
  },
  {
   "cell_type": "code",
   "execution_count": 345,
   "id": "a4b8f91d",
   "metadata": {},
   "outputs": [
    {
     "data": {
      "text/html": [
       "<div>\n",
       "<style scoped>\n",
       "    .dataframe tbody tr th:only-of-type {\n",
       "        vertical-align: middle;\n",
       "    }\n",
       "\n",
       "    .dataframe tbody tr th {\n",
       "        vertical-align: top;\n",
       "    }\n",
       "\n",
       "    .dataframe thead th {\n",
       "        text-align: right;\n",
       "    }\n",
       "</style>\n",
       "<table border=\"1\" class=\"dataframe\">\n",
       "  <thead>\n",
       "    <tr style=\"text-align: right;\">\n",
       "      <th></th>\n",
       "      <th>department</th>\n",
       "      <th>promoted</th>\n",
       "      <th>review</th>\n",
       "      <th>projects</th>\n",
       "      <th>salary</th>\n",
       "      <th>tenure</th>\n",
       "      <th>satisfaction</th>\n",
       "      <th>bonus</th>\n",
       "      <th>avg_hrs_month</th>\n",
       "      <th>left</th>\n",
       "    </tr>\n",
       "  </thead>\n",
       "  <tbody>\n",
       "    <tr>\n",
       "      <th>0</th>\n",
       "      <td>operations</td>\n",
       "      <td>0</td>\n",
       "      <td>0.577569</td>\n",
       "      <td>3</td>\n",
       "      <td>low</td>\n",
       "      <td>5.0</td>\n",
       "      <td>0.626759</td>\n",
       "      <td>0</td>\n",
       "      <td>180.866070</td>\n",
       "      <td>no</td>\n",
       "    </tr>\n",
       "    <tr>\n",
       "      <th>1</th>\n",
       "      <td>operations</td>\n",
       "      <td>0</td>\n",
       "      <td>0.751900</td>\n",
       "      <td>3</td>\n",
       "      <td>medium</td>\n",
       "      <td>6.0</td>\n",
       "      <td>0.443679</td>\n",
       "      <td>0</td>\n",
       "      <td>182.708149</td>\n",
       "      <td>no</td>\n",
       "    </tr>\n",
       "    <tr>\n",
       "      <th>2</th>\n",
       "      <td>support</td>\n",
       "      <td>0</td>\n",
       "      <td>0.722548</td>\n",
       "      <td>3</td>\n",
       "      <td>medium</td>\n",
       "      <td>6.0</td>\n",
       "      <td>0.446823</td>\n",
       "      <td>0</td>\n",
       "      <td>184.416084</td>\n",
       "      <td>no</td>\n",
       "    </tr>\n",
       "    <tr>\n",
       "      <th>3</th>\n",
       "      <td>logistics</td>\n",
       "      <td>0</td>\n",
       "      <td>0.675158</td>\n",
       "      <td>4</td>\n",
       "      <td>high</td>\n",
       "      <td>8.0</td>\n",
       "      <td>0.440139</td>\n",
       "      <td>0</td>\n",
       "      <td>188.707545</td>\n",
       "      <td>no</td>\n",
       "    </tr>\n",
       "    <tr>\n",
       "      <th>4</th>\n",
       "      <td>sales</td>\n",
       "      <td>0</td>\n",
       "      <td>0.676203</td>\n",
       "      <td>3</td>\n",
       "      <td>high</td>\n",
       "      <td>5.0</td>\n",
       "      <td>0.577607</td>\n",
       "      <td>1</td>\n",
       "      <td>179.821083</td>\n",
       "      <td>no</td>\n",
       "    </tr>\n",
       "  </tbody>\n",
       "</table>\n",
       "</div>"
      ],
      "text/plain": [
       "   department  promoted    review  projects  salary  tenure  satisfaction  \\\n",
       "0  operations         0  0.577569         3     low     5.0      0.626759   \n",
       "1  operations         0  0.751900         3  medium     6.0      0.443679   \n",
       "2     support         0  0.722548         3  medium     6.0      0.446823   \n",
       "3   logistics         0  0.675158         4    high     8.0      0.440139   \n",
       "4       sales         0  0.676203         3    high     5.0      0.577607   \n",
       "\n",
       "   bonus  avg_hrs_month left  \n",
       "0      0     180.866070   no  \n",
       "1      0     182.708149   no  \n",
       "2      0     184.416084   no  \n",
       "3      0     188.707545   no  \n",
       "4      1     179.821083   no  "
      ]
     },
     "execution_count": 345,
     "metadata": {},
     "output_type": "execute_result"
    }
   ],
   "source": [
    "EmployeeTurnover2.head()"
   ]
  },
  {
   "cell_type": "code",
   "execution_count": 430,
   "id": "1c2536aa",
   "metadata": {},
   "outputs": [
    {
     "data": {
      "image/png": "[encoded data removed]",
      "text/plain": [
       "<Figure size 432x288 with 1 Axes>"
      ]
     },
     "metadata": {
      "needs_background": "light"
     },
     "output_type": "display_data"
    }
   ],
   "source": [
    "num_bins = 10\n",
    "n, bins, patches = plt.hist(EmployeeTurnover2['review'], num_bins, facecolor='blue', alpha=1)\n",
    "plt.xlabel('Employee Review Rating')\n",
    "plt.ylabel('# of Employees')\n",
    "plt.title('Histogram of Emp Review Rating')\n",
    "plt.show()"
   ]
  },
  {
   "cell_type": "markdown",
   "id": "ebfac356",
   "metadata": {},
   "source": [
    "### NOTE: The majority of the employees have received midrange level reviews, falling between .6 and .7."
   ]
  },
  {
   "cell_type": "code",
   "execution_count": 431,
   "id": "182715ef",
   "metadata": {},
   "outputs": [
    {
     "data": {
      "image/png": "[encoded data removed]",
      "text/plain": [
       "<Figure size 432x288 with 1 Axes>"
      ]
     },
     "metadata": {
      "needs_background": "light"
     },
     "output_type": "display_data"
    }
   ],
   "source": [
    "num_bins = 10\n",
    "n, bins, patches = plt.hist(EmployeeTurnover2['projects'], num_bins, facecolor='red', alpha=1)\n",
    "plt.xlabel('Annual Projects Assigned')\n",
    "plt.ylabel('# of Employees')\n",
    "plt.title('Histogram of Emp Assigned Projects')\n",
    "plt.show()"
   ]
  },
  {
   "cell_type": "markdown",
   "id": "cd60d30b",
   "metadata": {},
   "source": [
    "### NOTE: Highest number of assigned annual projects: 3. With almost 6000 employees being assigned 3 projects annually, followed by just over 3000 employees being assigned 4 annual projects, then less than 1000 employees receiving 2 assigned projects annually."
   ]
  },
  {
   "cell_type": "code",
   "execution_count": 432,
   "id": "dd30483b",
   "metadata": {},
   "outputs": [
    {
     "data": {
      "image/png": "[encoded data removed]",
      "text/plain": [
       "<Figure size 432x288 with 1 Axes>"
      ]
     },
     "metadata": {
      "needs_background": "light"
     },
     "output_type": "display_data"
    }
   ],
   "source": [
    "num_bins = 10\n",
    "n, bins, patches = plt.hist(EmployeeTurnover2['promoted'], num_bins, facecolor='orange', alpha=1)\n",
    "plt.xlabel('Employee Promoted')\n",
    "plt.ylabel('# of Employees')\n",
    "plt.title('Histogram of Emp Promotion')\n",
    "plt.show()"
   ]
  },
  {
   "cell_type": "markdown",
   "id": "38f8358c",
   "metadata": {},
   "source": [
    "### NOTE: The majority of employees have not received a promotion, with less than 1000 having received a promotion."
   ]
  },
  {
   "cell_type": "code",
   "execution_count": 433,
   "id": "2ac37a37",
   "metadata": {},
   "outputs": [
    {
     "data": {
      "image/png": "[encoded data removed]",
      "text/plain": [
       "<Figure size 432x288 with 1 Axes>"
      ]
     },
     "metadata": {
      "needs_background": "light"
     },
     "output_type": "display_data"
    }
   ],
   "source": [
    "num_bins = 10\n",
    "n, bins, patches = plt.hist(EmployeeTurnover2['bonus'], num_bins, facecolor='yellow', alpha=1)\n",
    "plt.xlabel('Employee Received Bonus')\n",
    "plt.ylabel('# of Employees')\n",
    "plt.title('Histogram of Employee Bonus')\n",
    "plt.show()"
   ]
  },
  {
   "cell_type": "markdown",
   "id": "edf51ec7",
   "metadata": {},
   "source": [
    "### NOTE: Just over 2000 employees received bonuses."
   ]
  },
  {
   "cell_type": "markdown",
   "id": "e78a3274",
   "metadata": {},
   "source": [
    "## Data Wrangling 2\n",
    "### Keep columns, recode 'left'"
   ]
  },
  {
   "cell_type": "code",
   "execution_count": 359,
   "id": "bd126c5e",
   "metadata": {},
   "outputs": [],
   "source": [
    "Emp_Turn2 = EmployeeTurnover[['review', 'projects', 'promoted', 'bonus', 'left']]\n"
   ]
  },
  {
   "cell_type": "code",
   "execution_count": 360,
   "id": "7d712c93",
   "metadata": {},
   "outputs": [
    {
     "data": {
      "text/html": [
       "<div>\n",
       "<style scoped>\n",
       "    .dataframe tbody tr th:only-of-type {\n",
       "        vertical-align: middle;\n",
       "    }\n",
       "\n",
       "    .dataframe tbody tr th {\n",
       "        vertical-align: top;\n",
       "    }\n",
       "\n",
       "    .dataframe thead th {\n",
       "        text-align: right;\n",
       "    }\n",
       "</style>\n",
       "<table border=\"1\" class=\"dataframe\">\n",
       "  <thead>\n",
       "    <tr style=\"text-align: right;\">\n",
       "      <th></th>\n",
       "      <th>review</th>\n",
       "      <th>projects</th>\n",
       "      <th>promoted</th>\n",
       "      <th>bonus</th>\n",
       "      <th>left</th>\n",
       "    </tr>\n",
       "  </thead>\n",
       "  <tbody>\n",
       "    <tr>\n",
       "      <th>0</th>\n",
       "      <td>0.577569</td>\n",
       "      <td>3</td>\n",
       "      <td>0</td>\n",
       "      <td>0</td>\n",
       "      <td>no</td>\n",
       "    </tr>\n",
       "    <tr>\n",
       "      <th>1</th>\n",
       "      <td>0.751900</td>\n",
       "      <td>3</td>\n",
       "      <td>0</td>\n",
       "      <td>0</td>\n",
       "      <td>no</td>\n",
       "    </tr>\n",
       "    <tr>\n",
       "      <th>2</th>\n",
       "      <td>0.722548</td>\n",
       "      <td>3</td>\n",
       "      <td>0</td>\n",
       "      <td>0</td>\n",
       "      <td>no</td>\n",
       "    </tr>\n",
       "    <tr>\n",
       "      <th>3</th>\n",
       "      <td>0.675158</td>\n",
       "      <td>4</td>\n",
       "      <td>0</td>\n",
       "      <td>0</td>\n",
       "      <td>no</td>\n",
       "    </tr>\n",
       "    <tr>\n",
       "      <th>4</th>\n",
       "      <td>0.676203</td>\n",
       "      <td>3</td>\n",
       "      <td>0</td>\n",
       "      <td>1</td>\n",
       "      <td>no</td>\n",
       "    </tr>\n",
       "    <tr>\n",
       "      <th>...</th>\n",
       "      <td>...</td>\n",
       "      <td>...</td>\n",
       "      <td>...</td>\n",
       "      <td>...</td>\n",
       "      <td>...</td>\n",
       "    </tr>\n",
       "    <tr>\n",
       "      <th>9535</th>\n",
       "      <td>0.610988</td>\n",
       "      <td>4</td>\n",
       "      <td>0</td>\n",
       "      <td>0</td>\n",
       "      <td>yes</td>\n",
       "    </tr>\n",
       "    <tr>\n",
       "      <th>9536</th>\n",
       "      <td>0.746887</td>\n",
       "      <td>3</td>\n",
       "      <td>0</td>\n",
       "      <td>0</td>\n",
       "      <td>yes</td>\n",
       "    </tr>\n",
       "    <tr>\n",
       "      <th>9537</th>\n",
       "      <td>0.557980</td>\n",
       "      <td>3</td>\n",
       "      <td>0</td>\n",
       "      <td>0</td>\n",
       "      <td>yes</td>\n",
       "    </tr>\n",
       "    <tr>\n",
       "      <th>9538</th>\n",
       "      <td>0.584446</td>\n",
       "      <td>4</td>\n",
       "      <td>0</td>\n",
       "      <td>1</td>\n",
       "      <td>yes</td>\n",
       "    </tr>\n",
       "    <tr>\n",
       "      <th>9539</th>\n",
       "      <td>0.626373</td>\n",
       "      <td>3</td>\n",
       "      <td>0</td>\n",
       "      <td>1</td>\n",
       "      <td>yes</td>\n",
       "    </tr>\n",
       "  </tbody>\n",
       "</table>\n",
       "<p>9540 rows × 5 columns</p>\n",
       "</div>"
      ],
      "text/plain": [
       "        review  projects  promoted  bonus left\n",
       "0     0.577569         3         0      0   no\n",
       "1     0.751900         3         0      0   no\n",
       "2     0.722548         3         0      0   no\n",
       "3     0.675158         4         0      0   no\n",
       "4     0.676203         3         0      1   no\n",
       "...        ...       ...       ...    ...  ...\n",
       "9535  0.610988         4         0      0  yes\n",
       "9536  0.746887         3         0      0  yes\n",
       "9537  0.557980         3         0      0  yes\n",
       "9538  0.584446         4         0      1  yes\n",
       "9539  0.626373         3         0      1  yes\n",
       "\n",
       "[9540 rows x 5 columns]"
      ]
     },
     "execution_count": 360,
     "metadata": {},
     "output_type": "execute_result"
    }
   ],
   "source": [
    "Emp_Turn2"
   ]
  },
  {
   "cell_type": "code",
   "execution_count": 361,
   "id": "6eed75cc",
   "metadata": {},
   "outputs": [],
   "source": [
    "Emp_Turn_Replaced2 = Emp_Turn2.replace({'left': {'yes': 1, 'no': 0}})\n"
   ]
  },
  {
   "cell_type": "code",
   "execution_count": 362,
   "id": "096ce51a",
   "metadata": {},
   "outputs": [
    {
     "data": {
      "text/html": [
       "<div>\n",
       "<style scoped>\n",
       "    .dataframe tbody tr th:only-of-type {\n",
       "        vertical-align: middle;\n",
       "    }\n",
       "\n",
       "    .dataframe tbody tr th {\n",
       "        vertical-align: top;\n",
       "    }\n",
       "\n",
       "    .dataframe thead th {\n",
       "        text-align: right;\n",
       "    }\n",
       "</style>\n",
       "<table border=\"1\" class=\"dataframe\">\n",
       "  <thead>\n",
       "    <tr style=\"text-align: right;\">\n",
       "      <th></th>\n",
       "      <th>review</th>\n",
       "      <th>projects</th>\n",
       "      <th>promoted</th>\n",
       "      <th>bonus</th>\n",
       "      <th>left</th>\n",
       "    </tr>\n",
       "  </thead>\n",
       "  <tbody>\n",
       "    <tr>\n",
       "      <th>0</th>\n",
       "      <td>0.577569</td>\n",
       "      <td>3</td>\n",
       "      <td>0</td>\n",
       "      <td>0</td>\n",
       "      <td>0</td>\n",
       "    </tr>\n",
       "    <tr>\n",
       "      <th>1</th>\n",
       "      <td>0.751900</td>\n",
       "      <td>3</td>\n",
       "      <td>0</td>\n",
       "      <td>0</td>\n",
       "      <td>0</td>\n",
       "    </tr>\n",
       "    <tr>\n",
       "      <th>2</th>\n",
       "      <td>0.722548</td>\n",
       "      <td>3</td>\n",
       "      <td>0</td>\n",
       "      <td>0</td>\n",
       "      <td>0</td>\n",
       "    </tr>\n",
       "    <tr>\n",
       "      <th>3</th>\n",
       "      <td>0.675158</td>\n",
       "      <td>4</td>\n",
       "      <td>0</td>\n",
       "      <td>0</td>\n",
       "      <td>0</td>\n",
       "    </tr>\n",
       "    <tr>\n",
       "      <th>4</th>\n",
       "      <td>0.676203</td>\n",
       "      <td>3</td>\n",
       "      <td>0</td>\n",
       "      <td>1</td>\n",
       "      <td>0</td>\n",
       "    </tr>\n",
       "    <tr>\n",
       "      <th>...</th>\n",
       "      <td>...</td>\n",
       "      <td>...</td>\n",
       "      <td>...</td>\n",
       "      <td>...</td>\n",
       "      <td>...</td>\n",
       "    </tr>\n",
       "    <tr>\n",
       "      <th>9535</th>\n",
       "      <td>0.610988</td>\n",
       "      <td>4</td>\n",
       "      <td>0</td>\n",
       "      <td>0</td>\n",
       "      <td>1</td>\n",
       "    </tr>\n",
       "    <tr>\n",
       "      <th>9536</th>\n",
       "      <td>0.746887</td>\n",
       "      <td>3</td>\n",
       "      <td>0</td>\n",
       "      <td>0</td>\n",
       "      <td>1</td>\n",
       "    </tr>\n",
       "    <tr>\n",
       "      <th>9537</th>\n",
       "      <td>0.557980</td>\n",
       "      <td>3</td>\n",
       "      <td>0</td>\n",
       "      <td>0</td>\n",
       "      <td>1</td>\n",
       "    </tr>\n",
       "    <tr>\n",
       "      <th>9538</th>\n",
       "      <td>0.584446</td>\n",
       "      <td>4</td>\n",
       "      <td>0</td>\n",
       "      <td>1</td>\n",
       "      <td>1</td>\n",
       "    </tr>\n",
       "    <tr>\n",
       "      <th>9539</th>\n",
       "      <td>0.626373</td>\n",
       "      <td>3</td>\n",
       "      <td>0</td>\n",
       "      <td>1</td>\n",
       "      <td>1</td>\n",
       "    </tr>\n",
       "  </tbody>\n",
       "</table>\n",
       "<p>9540 rows × 5 columns</p>\n",
       "</div>"
      ],
      "text/plain": [
       "        review  projects  promoted  bonus  left\n",
       "0     0.577569         3         0      0     0\n",
       "1     0.751900         3         0      0     0\n",
       "2     0.722548         3         0      0     0\n",
       "3     0.675158         4         0      0     0\n",
       "4     0.676203         3         0      1     0\n",
       "...        ...       ...       ...    ...   ...\n",
       "9535  0.610988         4         0      0     1\n",
       "9536  0.746887         3         0      0     1\n",
       "9537  0.557980         3         0      0     1\n",
       "9538  0.584446         4         0      1     1\n",
       "9539  0.626373         3         0      1     1\n",
       "\n",
       "[9540 rows x 5 columns]"
      ]
     },
     "execution_count": 362,
     "metadata": {},
     "output_type": "execute_result"
    }
   ],
   "source": [
    "Emp_Turn_Replaced2"
   ]
  },
  {
   "cell_type": "code",
   "execution_count": null,
   "id": "55d5dcff",
   "metadata": {},
   "outputs": [],
   "source": []
  },
  {
   "cell_type": "markdown",
   "id": "cf6e2731",
   "metadata": {},
   "source": [
    "## Run correlation on newest datasat Emp_Turn_Replaced2"
   ]
  },
  {
   "cell_type": "code",
   "execution_count": 416,
   "id": "3b545f0c",
   "metadata": {},
   "outputs": [
    {
     "data": {
      "text/html": [
       "<div>\n",
       "<style scoped>\n",
       "    .dataframe tbody tr th:only-of-type {\n",
       "        vertical-align: middle;\n",
       "    }\n",
       "\n",
       "    .dataframe tbody tr th {\n",
       "        vertical-align: top;\n",
       "    }\n",
       "\n",
       "    .dataframe thead th {\n",
       "        text-align: right;\n",
       "    }\n",
       "</style>\n",
       "<table border=\"1\" class=\"dataframe\">\n",
       "  <thead>\n",
       "    <tr style=\"text-align: right;\">\n",
       "      <th></th>\n",
       "      <th>review</th>\n",
       "      <th>projects</th>\n",
       "      <th>promoted</th>\n",
       "      <th>bonus</th>\n",
       "      <th>left</th>\n",
       "    </tr>\n",
       "  </thead>\n",
       "  <tbody>\n",
       "    <tr>\n",
       "      <th>review</th>\n",
       "      <td>1.000000</td>\n",
       "      <td>0.000219</td>\n",
       "      <td>0.001879</td>\n",
       "      <td>-0.003627</td>\n",
       "      <td>0.304294</td>\n",
       "    </tr>\n",
       "    <tr>\n",
       "      <th>projects</th>\n",
       "      <td>0.000219</td>\n",
       "      <td>1.000000</td>\n",
       "      <td>0.010107</td>\n",
       "      <td>0.002654</td>\n",
       "      <td>-0.012408</td>\n",
       "    </tr>\n",
       "    <tr>\n",
       "      <th>promoted</th>\n",
       "      <td>0.001879</td>\n",
       "      <td>0.010107</td>\n",
       "      <td>1.000000</td>\n",
       "      <td>0.001072</td>\n",
       "      <td>-0.036777</td>\n",
       "    </tr>\n",
       "    <tr>\n",
       "      <th>bonus</th>\n",
       "      <td>-0.003627</td>\n",
       "      <td>0.002654</td>\n",
       "      <td>0.001072</td>\n",
       "      <td>1.000000</td>\n",
       "      <td>-0.011485</td>\n",
       "    </tr>\n",
       "    <tr>\n",
       "      <th>left</th>\n",
       "      <td>0.304294</td>\n",
       "      <td>-0.012408</td>\n",
       "      <td>-0.036777</td>\n",
       "      <td>-0.011485</td>\n",
       "      <td>1.000000</td>\n",
       "    </tr>\n",
       "  </tbody>\n",
       "</table>\n",
       "</div>"
      ],
      "text/plain": [
       "            review  projects  promoted     bonus      left\n",
       "review    1.000000  0.000219  0.001879 -0.003627  0.304294\n",
       "projects  0.000219  1.000000  0.010107  0.002654 -0.012408\n",
       "promoted  0.001879  0.010107  1.000000  0.001072 -0.036777\n",
       "bonus    -0.003627  0.002654  0.001072  1.000000 -0.011485\n",
       "left      0.304294 -0.012408 -0.036777 -0.011485  1.000000"
      ]
     },
     "execution_count": 416,
     "metadata": {},
     "output_type": "execute_result"
    }
   ],
   "source": [
    "## Run Correlation matrix on new dataset\n",
    "Emp_Turn_Replaced2.corr()"
   ]
  },
  {
   "cell_type": "code",
   "execution_count": 404,
   "id": "9c47bcdc",
   "metadata": {
    "scrolled": true
   },
   "outputs": [
    {
     "data": {
      "text/html": [
       "<style type=\"text/css\">\n",
       "#T_1c494_row0_col0, #T_1c494_row1_col1, #T_1c494_row2_col2, #T_1c494_row3_col3, #T_1c494_row4_col4 {\n",
       "  background-color: #b40426;\n",
       "  color: #f1f1f1;\n",
       "}\n",
       "#T_1c494_row0_col1, #T_1c494_row0_col3, #T_1c494_row1_col4, #T_1c494_row2_col4, #T_1c494_row3_col4, #T_1c494_row4_col2 {\n",
       "  background-color: #3b4cc0;\n",
       "  color: #f1f1f1;\n",
       "}\n",
       "#T_1c494_row0_col2 {\n",
       "  background-color: #3c4ec2;\n",
       "  color: #f1f1f1;\n",
       "}\n",
       "#T_1c494_row0_col4 {\n",
       "  background-color: #88abfd;\n",
       "  color: #000000;\n",
       "}\n",
       "#T_1c494_row1_col0, #T_1c494_row1_col3, #T_1c494_row3_col1, #T_1c494_row3_col2 {\n",
       "  background-color: #3e51c5;\n",
       "  color: #f1f1f1;\n",
       "}\n",
       "#T_1c494_row1_col2 {\n",
       "  background-color: #4055c8;\n",
       "  color: #f1f1f1;\n",
       "}\n",
       "#T_1c494_row2_col0, #T_1c494_row2_col3 {\n",
       "  background-color: #455cce;\n",
       "  color: #f1f1f1;\n",
       "}\n",
       "#T_1c494_row2_col1 {\n",
       "  background-color: #485fd1;\n",
       "  color: #f1f1f1;\n",
       "}\n",
       "#T_1c494_row3_col0 {\n",
       "  background-color: #3d50c3;\n",
       "  color: #f1f1f1;\n",
       "}\n",
       "#T_1c494_row4_col0 {\n",
       "  background-color: #90b2fe;\n",
       "  color: #000000;\n",
       "}\n",
       "#T_1c494_row4_col1, #T_1c494_row4_col3 {\n",
       "  background-color: #4257c9;\n",
       "  color: #f1f1f1;\n",
       "}\n",
       "</style>\n",
       "<table id=\"T_1c494\">\n",
       "  <thead>\n",
       "    <tr>\n",
       "      <th class=\"blank level0\" >&nbsp;</th>\n",
       "      <th id=\"T_1c494_level0_col0\" class=\"col_heading level0 col0\" >review</th>\n",
       "      <th id=\"T_1c494_level0_col1\" class=\"col_heading level0 col1\" >projects</th>\n",
       "      <th id=\"T_1c494_level0_col2\" class=\"col_heading level0 col2\" >promoted</th>\n",
       "      <th id=\"T_1c494_level0_col3\" class=\"col_heading level0 col3\" >bonus</th>\n",
       "      <th id=\"T_1c494_level0_col4\" class=\"col_heading level0 col4\" >left</th>\n",
       "    </tr>\n",
       "  </thead>\n",
       "  <tbody>\n",
       "    <tr>\n",
       "      <th id=\"T_1c494_level0_row0\" class=\"row_heading level0 row0\" >review</th>\n",
       "      <td id=\"T_1c494_row0_col0\" class=\"data row0 col0\" >1.0</td>\n",
       "      <td id=\"T_1c494_row0_col1\" class=\"data row0 col1\" >0.00092</td>\n",
       "      <td id=\"T_1c494_row0_col2\" class=\"data row0 col2\" >0.0022</td>\n",
       "      <td id=\"T_1c494_row0_col3\" class=\"data row0 col3\" >-0.0018</td>\n",
       "      <td id=\"T_1c494_row0_col4\" class=\"data row0 col4\" >0.23</td>\n",
       "    </tr>\n",
       "    <tr>\n",
       "      <th id=\"T_1c494_level0_row1\" class=\"row_heading level0 row1\" >projects</th>\n",
       "      <td id=\"T_1c494_row1_col0\" class=\"data row1 col0\" >0.00092</td>\n",
       "      <td id=\"T_1c494_row1_col1\" class=\"data row1 col1\" >1.0</td>\n",
       "      <td id=\"T_1c494_row1_col2\" class=\"data row1 col2\" >0.0081</td>\n",
       "      <td id=\"T_1c494_row1_col3\" class=\"data row1 col3\" >0.003</td>\n",
       "      <td id=\"T_1c494_row1_col4\" class=\"data row1 col4\" >-0.012</td>\n",
       "    </tr>\n",
       "    <tr>\n",
       "      <th id=\"T_1c494_level0_row2\" class=\"row_heading level0 row2\" >promoted</th>\n",
       "      <td id=\"T_1c494_row2_col0\" class=\"data row2 col0\" >0.0022</td>\n",
       "      <td id=\"T_1c494_row2_col1\" class=\"data row2 col1\" >0.0081</td>\n",
       "      <td id=\"T_1c494_row2_col2\" class=\"data row2 col2\" >1.0</td>\n",
       "      <td id=\"T_1c494_row2_col3\" class=\"data row2 col3\" >0.0011</td>\n",
       "      <td id=\"T_1c494_row2_col4\" class=\"data row2 col4\" >-0.037</td>\n",
       "    </tr>\n",
       "    <tr>\n",
       "      <th id=\"T_1c494_level0_row3\" class=\"row_heading level0 row3\" >bonus</th>\n",
       "      <td id=\"T_1c494_row3_col0\" class=\"data row3 col0\" >-0.0018</td>\n",
       "      <td id=\"T_1c494_row3_col1\" class=\"data row3 col1\" >0.003</td>\n",
       "      <td id=\"T_1c494_row3_col2\" class=\"data row3 col2\" >0.0011</td>\n",
       "      <td id=\"T_1c494_row3_col3\" class=\"data row3 col3\" >1.0</td>\n",
       "      <td id=\"T_1c494_row3_col4\" class=\"data row3 col4\" >-0.011</td>\n",
       "    </tr>\n",
       "    <tr>\n",
       "      <th id=\"T_1c494_level0_row4\" class=\"row_heading level0 row4\" >left</th>\n",
       "      <td id=\"T_1c494_row4_col0\" class=\"data row4 col0\" >0.23</td>\n",
       "      <td id=\"T_1c494_row4_col1\" class=\"data row4 col1\" >-0.012</td>\n",
       "      <td id=\"T_1c494_row4_col2\" class=\"data row4 col2\" >-0.037</td>\n",
       "      <td id=\"T_1c494_row4_col3\" class=\"data row4 col3\" >-0.011</td>\n",
       "      <td id=\"T_1c494_row4_col4\" class=\"data row4 col4\" >1.0</td>\n",
       "    </tr>\n",
       "  </tbody>\n",
       "</table>\n"
      ],
      "text/plain": [
       "<pandas.io.formats.style.Styler at 0x2912cc250>"
      ]
     },
     "execution_count": 404,
     "metadata": {},
     "output_type": "execute_result"
    }
   ],
   "source": [
    "Emp_Turn_Replaced2.corr(method='kendall').style.format(\"{:.2}\").background_gradient(cmap=plt.get_cmap('coolwarm'), axis=1)\n"
   ]
  },
  {
   "cell_type": "code",
   "execution_count": 419,
   "id": "309975dd",
   "metadata": {},
   "outputs": [],
   "source": [
    "##Variables on 2nd data set do not seem correlated"
   ]
  },
  {
   "cell_type": "markdown",
   "id": "caa61b14",
   "metadata": {},
   "source": [
    "\n",
    "\n",
    "## Run Logistic Regressions on 2nd dataset Emp_Turn_Replaced2"
   ]
  },
  {
   "cell_type": "code",
   "execution_count": 363,
   "id": "6c0613fd",
   "metadata": {},
   "outputs": [],
   "source": [
    "x = Emp_Turn_Replaced2['review']\n",
    "y = Emp_Turn_Replaced2['left']"
   ]
  },
  {
   "cell_type": "code",
   "execution_count": 364,
   "id": "10a9237d",
   "metadata": {},
   "outputs": [
    {
     "name": "stdout",
     "output_type": "stream",
     "text": [
      "Optimization terminated successfully.\n",
      "         Current function value: 0.620198\n",
      "         Iterations 5\n",
      "                         Results: Logit\n",
      "=================================================================\n",
      "Model:              Logit            Pseudo R-squared: -0.027    \n",
      "Dependent Variable: left             AIC:              11835.3815\n",
      "Date:               2022-09-09 13:16 BIC:              11842.5448\n",
      "No. Observations:   9540             Log-Likelihood:   -5916.7   \n",
      "Df Model:           0                LL-Null:          -5760.0   \n",
      "Df Residuals:       9539             LLR p-value:      nan       \n",
      "Converged:          1.0000           Scale:            1.0000    \n",
      "No. Iterations:     5.0000                                       \n",
      "-------------------------------------------------------------------\n",
      "          Coef.    Std.Err.      z       P>|z|     [0.025    0.975]\n",
      "-------------------------------------------------------------------\n",
      "review   -1.2104     0.0338   -35.8105   0.0000   -1.2767   -1.1442\n",
      "=================================================================\n",
      "\n"
     ]
    }
   ],
   "source": [
    "logit = sm.Logit(y,x)\n",
    "results = logit.fit()\n",
    "print(results.summary2())"
   ]
  },
  {
   "cell_type": "markdown",
   "id": "d459790e",
   "metadata": {},
   "source": [
    "## Results1:\n",
    "### P>|z| column indicates 'review' is not a significant influence on employee retention. \n",
    "### Also Pseudo R-squared # indicates 'review' explains less than 1% of the variance of an employee staying or leaving."
   ]
  },
  {
   "cell_type": "code",
   "execution_count": 365,
   "id": "fd92c182",
   "metadata": {},
   "outputs": [],
   "source": [
    "x = Emp_Turn_Replaced2['projects']\n",
    "y = Emp_Turn_Replaced2['left']"
   ]
  },
  {
   "cell_type": "code",
   "execution_count": 366,
   "id": "f954a5b9",
   "metadata": {},
   "outputs": [
    {
     "name": "stdout",
     "output_type": "stream",
     "text": [
      "Optimization terminated successfully.\n",
      "         Current function value: 0.605390\n",
      "         Iterations 5\n",
      "                         Results: Logit\n",
      "=================================================================\n",
      "Model:              Logit            Pseudo R-squared: -0.003    \n",
      "Dependent Variable: left             AIC:              11552.8465\n",
      "Date:               2022-09-09 13:17 BIC:              11560.0098\n",
      "No. Observations:   9540             Log-Likelihood:   -5775.4   \n",
      "Df Model:           0                LL-Null:          -5760.0   \n",
      "Df Residuals:       9539             LLR p-value:      nan       \n",
      "Converged:          1.0000           Scale:            1.0000    \n",
      "No. Iterations:     5.0000                                       \n",
      "------------------------------------------------------------------\n",
      "              Coef.   Std.Err.     z      P>|z|    [0.025   0.975]\n",
      "------------------------------------------------------------------\n",
      "projects     -0.2654    0.0068  -38.8423  0.0000  -0.2788  -0.2520\n",
      "=================================================================\n",
      "\n"
     ]
    }
   ],
   "source": [
    "logit = sm.Logit(y,x)\n",
    "results = logit.fit()\n",
    "print(results.summary2())"
   ]
  },
  {
   "cell_type": "markdown",
   "id": "e491c64f",
   "metadata": {},
   "source": [
    "## Results2:\n",
    "### P>|z| column indicates 'projects' is not a significant influence on employee retention.\n",
    "### Also Pseudo R-squared # indicates 'projects' explains less than 1% of the variance of an employee staying or leaving."
   ]
  },
  {
   "cell_type": "code",
   "execution_count": 367,
   "id": "6810ecb0",
   "metadata": {},
   "outputs": [],
   "source": [
    "x = Emp_Turn_Replaced2['promoted']\n",
    "y = Emp_Turn_Replaced2['left']"
   ]
  },
  {
   "cell_type": "code",
   "execution_count": 368,
   "id": "4ef7576a",
   "metadata": {},
   "outputs": [
    {
     "name": "stdout",
     "output_type": "stream",
     "text": [
      "Optimization terminated successfully.\n",
      "         Current function value: 0.687191\n",
      "         Iterations 5\n",
      "                         Results: Logit\n",
      "=================================================================\n",
      "Model:              Logit            Pseudo R-squared: -0.138    \n",
      "Dependent Variable: left             AIC:              13113.6098\n",
      "Date:               2022-09-09 13:17 BIC:              13120.7730\n",
      "No. Observations:   9540             Log-Likelihood:   -6555.8   \n",
      "Df Model:           0                LL-Null:          -5760.0   \n",
      "Df Residuals:       9539             LLR p-value:      nan       \n",
      "Converged:          1.0000           Scale:            1.0000    \n",
      "No. Iterations:     5.0000                                       \n",
      "------------------------------------------------------------------\n",
      "               Coef.   Std.Err.     z     P>|z|    [0.025   0.975]\n",
      "------------------------------------------------------------------\n",
      "promoted      -1.4037    0.1478  -9.4952  0.0000  -1.6934  -1.1139\n",
      "=================================================================\n",
      "\n"
     ]
    }
   ],
   "source": [
    "logit = sm.Logit(y,x)\n",
    "results = logit.fit()\n",
    "print(results.summary2())"
   ]
  },
  {
   "cell_type": "markdown",
   "id": "4bfabe91",
   "metadata": {},
   "source": [
    "## Results3:\n",
    "### P>|z| column indicates 'promoted' is not a significant influence on employee retention.\n",
    "### Also Pseudo R-squared # indicates 'promoted' explains 13% of the variance of an employee staying or leaving."
   ]
  },
  {
   "cell_type": "code",
   "execution_count": 369,
   "id": "d387f769",
   "metadata": {},
   "outputs": [],
   "source": [
    "x = Emp_Turn_Replaced2['bonus']\n",
    "y = Emp_Turn_Replaced2['left']"
   ]
  },
  {
   "cell_type": "code",
   "execution_count": 370,
   "id": "f77fb4e7",
   "metadata": {},
   "outputs": [
    {
     "name": "stdout",
     "output_type": "stream",
     "text": [
      "Optimization terminated successfully.\n",
      "         Current function value: 0.672251\n",
      "         Iterations 5\n",
      "                         Results: Logit\n",
      "=================================================================\n",
      "Model:              Logit            Pseudo R-squared: -0.113    \n",
      "Dependent Variable: left             AIC:              12828.5574\n",
      "Date:               2022-09-09 13:17 BIC:              12835.7206\n",
      "No. Observations:   9540             Log-Likelihood:   -6413.3   \n",
      "Df Model:           0                LL-Null:          -5760.0   \n",
      "Df Residuals:       9539             LLR p-value:      nan       \n",
      "Converged:          1.0000           Scale:            1.0000    \n",
      "No. Iterations:     5.0000                                       \n",
      "-------------------------------------------------------------------\n",
      "          Coef.    Std.Err.      z       P>|z|     [0.025    0.975]\n",
      "-------------------------------------------------------------------\n",
      "bonus    -0.9357     0.0494   -18.9335   0.0000   -1.0326   -0.8389\n",
      "=================================================================\n",
      "\n"
     ]
    }
   ],
   "source": [
    "logit = sm.Logit(y,x)\n",
    "results = logit.fit()\n",
    "print(results.summary2())"
   ]
  },
  {
   "cell_type": "markdown",
   "id": "4583b684",
   "metadata": {},
   "source": [
    "## Results4:\n",
    "### P>|z| column indicates 'bonus' is not a significant influence on employee retention.\n",
    "### Also Pseudo R-squared # indicates 'bonus' explains 11% of the variance of an employee staying or leaving."
   ]
  },
  {
   "cell_type": "markdown",
   "id": "570d48ab",
   "metadata": {},
   "source": []
  },
  {
   "cell_type": "code",
   "execution_count": null,
   "id": "4c02369f",
   "metadata": {},
   "outputs": [],
   "source": []
  },
  {
   "cell_type": "code",
   "execution_count": null,
   "id": "db858b74",
   "metadata": {},
   "outputs": [],
   "source": []
  }
 ],
 "metadata": {
  "kernelspec": {
   "display_name": "Python 3 (ipykernel)",
   "language": "python",
   "name": "python3"
  },
  "language_info": {
   "codemirror_mode": {
    "name": "ipython",
    "version": 3
   },
   "file_extension": ".py",
   "mimetype": "text/x-python",
   "name": "python",
   "nbconvert_exporter": "python",
   "pygments_lexer": "ipython3",
   "version": "3.9.13"
  }
 },
 "nbformat": 4,
 "nbformat_minor": 5
}
